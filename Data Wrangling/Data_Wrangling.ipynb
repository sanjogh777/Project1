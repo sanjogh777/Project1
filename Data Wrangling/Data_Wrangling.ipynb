{
 "cells": [
  {
   "cell_type": "markdown",
   "metadata": {},
   "source": [
    "# #Aim: *The aim of this notebook is to clean the dataset and save it in a different csv file*."
   ]
  },
  {
   "cell_type": "code",
   "execution_count": 1,
   "metadata": {},
   "outputs": [],
   "source": [
    "import pandas as pd\n",
    "import numpy as np\n",
    "import seaborn as sns\n",
    "import matplotlib.pyplot as plt"
   ]
  },
  {
   "cell_type": "code",
   "execution_count": 2,
   "metadata": {},
   "outputs": [],
   "source": [
    "loan1 = pd.read_csv('new_loan.csv', low_memory=False)"
   ]
  },
  {
   "cell_type": "code",
   "execution_count": 3,
   "metadata": {},
   "outputs": [
    {
     "data": {
      "text/html": [
       "<div>\n",
       "<style scoped>\n",
       "    .dataframe tbody tr th:only-of-type {\n",
       "        vertical-align: middle;\n",
       "    }\n",
       "\n",
       "    .dataframe tbody tr th {\n",
       "        vertical-align: top;\n",
       "    }\n",
       "\n",
       "    .dataframe thead th {\n",
       "        text-align: right;\n",
       "    }\n",
       "</style>\n",
       "<table border=\"1\" class=\"dataframe\">\n",
       "  <thead>\n",
       "    <tr style=\"text-align: right;\">\n",
       "      <th></th>\n",
       "      <th>id</th>\n",
       "      <th>member_id</th>\n",
       "      <th>loan_amnt</th>\n",
       "      <th>funded_amnt</th>\n",
       "      <th>funded_amnt_inv</th>\n",
       "      <th>term</th>\n",
       "      <th>int_rate</th>\n",
       "      <th>installment</th>\n",
       "      <th>grade</th>\n",
       "      <th>sub_grade</th>\n",
       "      <th>...</th>\n",
       "      <th>next_pymnt_d</th>\n",
       "      <th>last_credit_pull_d</th>\n",
       "      <th>collections_12_mths_ex_med</th>\n",
       "      <th>policy_code</th>\n",
       "      <th>application_type</th>\n",
       "      <th>acc_now_delinq</th>\n",
       "      <th>tot_coll_amt</th>\n",
       "      <th>tot_cur_bal</th>\n",
       "      <th>total_rev_hi_lim</th>\n",
       "      <th>Default_Binary</th>\n",
       "    </tr>\n",
       "  </thead>\n",
       "  <tbody>\n",
       "    <tr>\n",
       "      <th>0</th>\n",
       "      <td>1077501</td>\n",
       "      <td>1296599</td>\n",
       "      <td>5000.0</td>\n",
       "      <td>5000.0</td>\n",
       "      <td>4975.0</td>\n",
       "      <td>36 months</td>\n",
       "      <td>10.65</td>\n",
       "      <td>162.87</td>\n",
       "      <td>B</td>\n",
       "      <td>B2</td>\n",
       "      <td>...</td>\n",
       "      <td>NaN</td>\n",
       "      <td>Jan-2016</td>\n",
       "      <td>0.0</td>\n",
       "      <td>1.0</td>\n",
       "      <td>INDIVIDUAL</td>\n",
       "      <td>0.0</td>\n",
       "      <td>NaN</td>\n",
       "      <td>NaN</td>\n",
       "      <td>NaN</td>\n",
       "      <td>0</td>\n",
       "    </tr>\n",
       "    <tr>\n",
       "      <th>1</th>\n",
       "      <td>1077430</td>\n",
       "      <td>1314167</td>\n",
       "      <td>2500.0</td>\n",
       "      <td>2500.0</td>\n",
       "      <td>2500.0</td>\n",
       "      <td>60 months</td>\n",
       "      <td>15.27</td>\n",
       "      <td>59.83</td>\n",
       "      <td>C</td>\n",
       "      <td>C4</td>\n",
       "      <td>...</td>\n",
       "      <td>NaN</td>\n",
       "      <td>Sep-2013</td>\n",
       "      <td>0.0</td>\n",
       "      <td>1.0</td>\n",
       "      <td>INDIVIDUAL</td>\n",
       "      <td>0.0</td>\n",
       "      <td>NaN</td>\n",
       "      <td>NaN</td>\n",
       "      <td>NaN</td>\n",
       "      <td>1</td>\n",
       "    </tr>\n",
       "    <tr>\n",
       "      <th>2</th>\n",
       "      <td>1077175</td>\n",
       "      <td>1313524</td>\n",
       "      <td>2400.0</td>\n",
       "      <td>2400.0</td>\n",
       "      <td>2400.0</td>\n",
       "      <td>36 months</td>\n",
       "      <td>15.96</td>\n",
       "      <td>84.33</td>\n",
       "      <td>C</td>\n",
       "      <td>C5</td>\n",
       "      <td>...</td>\n",
       "      <td>NaN</td>\n",
       "      <td>Jan-2016</td>\n",
       "      <td>0.0</td>\n",
       "      <td>1.0</td>\n",
       "      <td>INDIVIDUAL</td>\n",
       "      <td>0.0</td>\n",
       "      <td>NaN</td>\n",
       "      <td>NaN</td>\n",
       "      <td>NaN</td>\n",
       "      <td>0</td>\n",
       "    </tr>\n",
       "    <tr>\n",
       "      <th>3</th>\n",
       "      <td>1076863</td>\n",
       "      <td>1277178</td>\n",
       "      <td>10000.0</td>\n",
       "      <td>10000.0</td>\n",
       "      <td>10000.0</td>\n",
       "      <td>36 months</td>\n",
       "      <td>13.49</td>\n",
       "      <td>339.31</td>\n",
       "      <td>C</td>\n",
       "      <td>C1</td>\n",
       "      <td>...</td>\n",
       "      <td>NaN</td>\n",
       "      <td>Jan-2015</td>\n",
       "      <td>0.0</td>\n",
       "      <td>1.0</td>\n",
       "      <td>INDIVIDUAL</td>\n",
       "      <td>0.0</td>\n",
       "      <td>NaN</td>\n",
       "      <td>NaN</td>\n",
       "      <td>NaN</td>\n",
       "      <td>0</td>\n",
       "    </tr>\n",
       "    <tr>\n",
       "      <th>4</th>\n",
       "      <td>1075269</td>\n",
       "      <td>1311441</td>\n",
       "      <td>5000.0</td>\n",
       "      <td>5000.0</td>\n",
       "      <td>5000.0</td>\n",
       "      <td>36 months</td>\n",
       "      <td>7.90</td>\n",
       "      <td>156.46</td>\n",
       "      <td>A</td>\n",
       "      <td>A4</td>\n",
       "      <td>...</td>\n",
       "      <td>NaN</td>\n",
       "      <td>Sep-2015</td>\n",
       "      <td>0.0</td>\n",
       "      <td>1.0</td>\n",
       "      <td>INDIVIDUAL</td>\n",
       "      <td>0.0</td>\n",
       "      <td>NaN</td>\n",
       "      <td>NaN</td>\n",
       "      <td>NaN</td>\n",
       "      <td>0</td>\n",
       "    </tr>\n",
       "  </tbody>\n",
       "</table>\n",
       "<p>5 rows × 53 columns</p>\n",
       "</div>"
      ],
      "text/plain": [
       "        id  member_id  loan_amnt  funded_amnt  funded_amnt_inv        term  \\\n",
       "0  1077501    1296599     5000.0       5000.0           4975.0   36 months   \n",
       "1  1077430    1314167     2500.0       2500.0           2500.0   60 months   \n",
       "2  1077175    1313524     2400.0       2400.0           2400.0   36 months   \n",
       "3  1076863    1277178    10000.0      10000.0          10000.0   36 months   \n",
       "4  1075269    1311441     5000.0       5000.0           5000.0   36 months   \n",
       "\n",
       "   int_rate  installment grade sub_grade      ...       next_pymnt_d  \\\n",
       "0     10.65       162.87     B        B2      ...                NaN   \n",
       "1     15.27        59.83     C        C4      ...                NaN   \n",
       "2     15.96        84.33     C        C5      ...                NaN   \n",
       "3     13.49       339.31     C        C1      ...                NaN   \n",
       "4      7.90       156.46     A        A4      ...                NaN   \n",
       "\n",
       "  last_credit_pull_d collections_12_mths_ex_med  policy_code application_type  \\\n",
       "0           Jan-2016                        0.0          1.0       INDIVIDUAL   \n",
       "1           Sep-2013                        0.0          1.0       INDIVIDUAL   \n",
       "2           Jan-2016                        0.0          1.0       INDIVIDUAL   \n",
       "3           Jan-2015                        0.0          1.0       INDIVIDUAL   \n",
       "4           Sep-2015                        0.0          1.0       INDIVIDUAL   \n",
       "\n",
       "  acc_now_delinq tot_coll_amt tot_cur_bal total_rev_hi_lim Default_Binary  \n",
       "0            0.0          NaN         NaN              NaN              0  \n",
       "1            0.0          NaN         NaN              NaN              1  \n",
       "2            0.0          NaN         NaN              NaN              0  \n",
       "3            0.0          NaN         NaN              NaN              0  \n",
       "4            0.0          NaN         NaN              NaN              0  \n",
       "\n",
       "[5 rows x 53 columns]"
      ]
     },
     "execution_count": 3,
     "metadata": {},
     "output_type": "execute_result"
    }
   ],
   "source": [
    "loan1.head()"
   ]
  },
  {
   "cell_type": "markdown",
   "metadata": {},
   "source": [
    "## Loan Data Description\t:\n",
    "#### Data taken from : https://www.kaggle.com/wendykan/lending-club-loan-data\n",
    "\n",
    "1. *addr_state*\t- The state provided by the borrower in the loan application\t\t\t\t\t\t\t\t\t\n",
    "2. *annual_inc* - The self-reported annual income provided by the borrower during registration.\t\t\t\t\t\t\t\t\t\n",
    "3. *annual_inc_joint* -\tThe combined self-reported annual income provided by the co-borrowers during registration.\t\t\t   4. *application_type* -\tIndicates whether the loan is an individual application or a joint application with two co-borrowers. 5. *collection_recovery_fee* - post charge off collection fee.\t\t\t\t\t\t\t\t\t\n",
    "6. *collections_12_mths_ex_med* - Number of collections in 12 months excluding medical collections.\t\t\t\t\t\t\t\t7. *delinq_2yrs* - The number of 30+ days past-due incidences of delinquency in the borrower's credit file for the past 2 years. 8. *desc* - Loan description provided by the borrower.\t\t\t\t\t\t\t\t\t\n",
    "9. *dti* - A ratio calculated using the borrower’s total monthly debt payments on the total debt obligations, excluding mortgage and the requested LC loan, divided by the borrower’s self-reported monthly income.\t\t\t\t\t\t\t\t\t\n",
    "10. *dti_joint* - A ratio calculated using the co-borrowers' total monthly payments on the total debt obligations, excluding     mortgages and the requested LC loan, divided by the co-borrowers' combined self-reported monthly income.\t\t\t\t\t\t11. *earliest_cr_line* - The month the borrower's earliest reported credit line was opened.\t\t\t\t\t\t\t\t\t\n",
    "12. *emp_length* - Employment length in years. Possible values are between 0 and 10 where 0 means less than one year and 10 means ten or more years. \t\t\t\t\t\t\t\t\t\n",
    "13. *emp_title* - The job title supplied by the Borrower when applying for the loan.\t\t\t\t\t\t\t\t\t\n",
    "14. *funded_amnt* -\tThe total amount committed to that loan at that point in time.\t\t\t\t\t\t\t\t\t\n",
    "15. *funded_amnt_inv* - The total amount committed by investors for that loan at that point in time.\t\t\t\t\t\t\t16. *grade* - LC assigned loan grade.\t\t\t\t\t\t\t\t\t\n",
    "17. *home_ownership* - The home ownership status provided by the borrower during registration. Our values are: RENT, OWN, MORTGAGE, OTHER.\t\t\t\t\t\t\t\t\t\n",
    "18. *id* - A unique LC assigned ID for the loan listing.\t\t\t\t\t\t\t\t\t\n",
    "19. *initial_list_status* -\tThe initial listing status of the loan. Possible values are – W, F.\t\t\t\t\t\t\t\t\t\n",
    "20. *inq_last_6mths* - The number of inquiries in past 6 months (excluding auto and mortgage inquiries).\t\t\t\t\t\t21. *installment* -\tThe monthly payment owed by the borrower if the loan originates.\t\t\t\t\t\t\t\t\t\n",
    "22. *int_rate* - Interest Rate on the loan.\t\t\t\t\t\t\t\t\t\n",
    "23. *is_inc_v* - Indicates if income was verified by LC, not verified, or if the income source was verified.\t\t\t\t\t24. *issue_d* -\tThe month which the loan was funded.\t\t\t\t\t\t\t\t\t\n",
    "25. *last_credit_pull_d* - The most recent month LC pulled credit for this loan.\t\t\t\t\t\t\t\t\t\n",
    "26. *last_fico_range_high* - The upper boundary range the borrower’s last FICO pulled belongs to.\t\t\t\t\t\t\t\t27. *last_pymnt_amnt* -\tLast total payment amount received.\t\t\t\t\t\t\t\t\t\n",
    "28. *last_pymnt_d* - Last month payment was received.\t\t\t\t\t\t\t\t\t\n",
    "29. *loan_amnt* - The listed amount of the loan applied for by the borrower. If at some point in time, the credit department reduces the loan amount, then it will be reflected in this value.\t\t\t\t\t\t\t\t\t\n",
    "30. *loan_status* -\tCurrent status of the loan.\t\t\t\t\t\t\t\t\t\n",
    "31. *member_id* - A unique LC assigned Id for the borrower member.\t\t\t\t\t\t\t\t\t\n",
    "32. *mths_since_last_delinq* - The number of months since the borrower's last delinquency.\t\t\t\t\t\t\t\t\t\n",
    "33. *mths_since_last_major_derog* - Months since most recent 90-day or worse rating.\t\t\t\t\t\t\t\t\t\n",
    "34. *mths_since_last_record* - The number of months since the last public record.\t\t\t\t\t\t\t\t\t\n",
    "35. *next_pymnt_d* - Next scheduled payment date.\t\t\t\t\t\t\t\t\t\n",
    "36. *open_acc* - The number of open credit lines in the borrower's credit file.\t\t\t\t\t\t\t\t\t\n",
    "37. *out_prncp* - Remaining outstanding principal for total amount funded.\t\t\t\t\t\t\t\t\t\n",
    "38. *out_prncp_inv* - Remaining outstanding principal for portion of total amount funded by investors.\t\t\t\t\t\t\t39. *policy_code* -\tpublicly available policy_code=1, new products not publicly available policy_code=2.\t\t\t\t\t\t40. *pub_rec* -\tNumber of derogatory public records.\t\t\t\t\t\t\t\t\t\n",
    "41. *purpose* -\tA category provided by the borrower for the loan request. \t\t\t\t\t\t\t\t\t\n",
    "42. *pymnt_plan* - Indicates if a payment plan has been put in place for the loan.\t\t\t\t\t\t\t\t\t\n",
    "43. *recoveries* - post charge off gross recovery.\t\t\t\t\t\t\t\t\t\n",
    "44. *revol_bal* - Total credit revolving balance.\t\t\t\t\t\t\t\t\t\n",
    "45. *revol_util* - Revolving line utilization rate, or the amount of credit the borrower is using relative to all available revolving credit.\t\t\t\t\t\t\t\t\t\n",
    "46. *sub_grade* - LC assigned loan subgrade.\t\t\t\t\t\t\t\t\t\n",
    "47. *term* - The number of payments on the loan. Values are in months and can be either 36 or 60.\t\t\t\t\t\t\t\t48. *title* - The loan title provided by the borrower.\t\t\t\t\t\t\t\t\t\n",
    "49. *total_acc* - The total number of credit lines currently in the borrower's credit file.\t\t\t\t\t\t\t\t\t\n",
    "50. *total_pymnt* -\tPayments received to date for total amount funded.\t\t\t\t\t\t\t\t\t\n",
    "51. *total_pymnt_inv* -\tPayments received to date for portion of total amount funded by investors.\t\t\t\t\t\t\t\t52. *total_rec_int* - Interest received to date.\t\t\t\t\t\t\t\t\t\n",
    "53. *total_rec_late_fee* - Late fees received to date.\t\t\t\t\t\t\t\t\t\n",
    "54. *total_rec_prncp* -\tPrincipal received to date.\t\t\t\t\t\t\t\t\t\n",
    "55. *url* -\tURL for the LC page with listing data.\t\t\t\t\t\t\t\t\t\n",
    "56. *verified_status_joint* - Indicates if the co-borrowers' joint income was verified by LC, not verified, or if the income source was verified.\t\t\t\t\t\t\t\t\t\n",
    "57. *zip_code* - The first 3 numbers of the zip code provided by the borrower in the loan application.\t\t\t\t\t\t\t58. *open_acc_6m* -\tNumber of open trades in last 6 months.\t\t\t\t\t\t\t\t\t\n",
    "59. *open_il_6m* - Number of currently active installment trades.\t\t\t\t\t\t\t\t\t\n",
    "60. *open_il_12m* -\tNumber of installment accounts opened in past 12 months.\t\t\t\t\t\t\t\t\t\n",
    "61. *open_il_24m* -\tNumber of installment accounts opened in past 24 months.\t\t\t\t\t\t\t\t\t\n",
    "62. *mths_since_rcnt_il* - Months since most recent installment accounts opened.\t\t\t\t\t\t\t\t\t\n",
    "63. *total_bal_il* - Total current balance of all installment accounts.\t\t\t\t\t\t\t\t\t\n",
    "64. *il_util* -\tRatio of total current balance to high credit/credit limit on all install acct.\t\t\t\t\t\t\t\t\t\n",
    "65. *open_rv_12m* -\tNumber of revolving trades opened in past 12 months.\t\t\t\t\t\t\t\t\t\n",
    "66. *open_rv_24m* -\tNumber of revolving trades opened in past 24 months.\t\t\t\t\t\t\t\t\t\n",
    "67. *max_bal_bc* -\tMaximum current balance owed on all revolving accounts.\t\t\t\t\t\t\t\t\t\n",
    "68. *all_util* - Balance to credit limit on all trades.\t\t\t\t\t\t\t\t\t\n",
    "69. *total_rev_hi_limb* - Total revolving high credit/credit limit.\t\t\t\t\t\t\t\t\t\n",
    "70. *inq_fi* - Number of personal finance inquiries.\t\t\t\t\t\t\t\t\t\n",
    "71. *total_cu_tl* -\tNumber of finance trades.\t\t\t\t\t\t\t\t\t\n",
    "72. *inq_last_12m* - Number of credit inquiries in past 12 months.\t\t\t\t\t\t\t\t\t\n",
    "73. *acc_now_delinq* - The number of accounts on which the borrower is now delinquent.\t\t\t\t\t\t\t\t\t\n",
    "74. *tot_coll_amt* - Total collection amounts ever owed.\t\t\t\t\t\t\t\t\t\n",
    "75. *tot_cur_bal* -\tTotal current balance of all accounts.\t\t\t\t\t\t\t\t\t\t\t\t\t\t\t\t\t\t\n"
   ]
  },
  {
   "cell_type": "code",
   "execution_count": 4,
   "metadata": {},
   "outputs": [
    {
     "data": {
      "text/plain": [
       "Index(['id', 'member_id', 'loan_amnt', 'funded_amnt', 'funded_amnt_inv',\n",
       "       'term', 'int_rate', 'installment', 'grade', 'sub_grade', 'emp_title',\n",
       "       'emp_length', 'home_ownership', 'annual_inc', 'verification_status',\n",
       "       'issue_d', 'pymnt_plan', 'url', 'purpose', 'title', 'zip_code',\n",
       "       'addr_state', 'dti', 'delinq_2yrs', 'earliest_cr_line',\n",
       "       'inq_last_6mths', 'open_acc', 'pub_rec', 'revol_bal', 'revol_util',\n",
       "       'total_acc', 'initial_list_status', 'out_prncp', 'out_prncp_inv',\n",
       "       'total_pymnt', 'total_pymnt_inv', 'total_rec_prncp', 'total_rec_int',\n",
       "       'total_rec_late_fee', 'recoveries', 'collection_recovery_fee',\n",
       "       'last_pymnt_d', 'last_pymnt_amnt', 'next_pymnt_d', 'last_credit_pull_d',\n",
       "       'collections_12_mths_ex_med', 'policy_code', 'application_type',\n",
       "       'acc_now_delinq', 'tot_coll_amt', 'tot_cur_bal', 'total_rev_hi_lim',\n",
       "       'Default_Binary'],\n",
       "      dtype='object')"
      ]
     },
     "execution_count": 4,
     "metadata": {},
     "output_type": "execute_result"
    }
   ],
   "source": [
    "loan1.columns"
   ]
  },
  {
   "cell_type": "code",
   "execution_count": 5,
   "metadata": {},
   "outputs": [
    {
     "data": {
      "text/plain": [
       "53"
      ]
     },
     "execution_count": 5,
     "metadata": {},
     "output_type": "execute_result"
    }
   ],
   "source": [
    "len(loan1.columns)"
   ]
  },
  {
   "cell_type": "markdown",
   "metadata": {},
   "source": [
    "### Checking the different values in the column 'application_type'"
   ]
  },
  {
   "cell_type": "code",
   "execution_count": 6,
   "metadata": {},
   "outputs": [
    {
     "data": {
      "text/plain": [
       "application_type\n",
       "JOINT              3\n",
       "INDIVIDUAL    269773\n",
       "dtype: int64"
      ]
     },
     "execution_count": 6,
     "metadata": {},
     "output_type": "execute_result"
    }
   ],
   "source": [
    "loan1.groupby('application_type').size().sort_values()"
   ]
  },
  {
   "cell_type": "markdown",
   "metadata": {},
   "source": [
    "### Dropping the column 'application_type' due to skewed data. "
   ]
  },
  {
   "cell_type": "code",
   "execution_count": 7,
   "metadata": {},
   "outputs": [],
   "source": [
    "loan1.drop(['application_type'], axis=1, inplace=True)"
   ]
  },
  {
   "cell_type": "markdown",
   "metadata": {},
   "source": [
    "### We can see that 'policy_code' is just a bunch of 1s. Therefore we can drop the column. "
   ]
  },
  {
   "cell_type": "code",
   "execution_count": 8,
   "metadata": {},
   "outputs": [
    {
     "data": {
      "text/plain": [
       "policy_code\n",
       "1.0    269776\n",
       "dtype: int64"
      ]
     },
     "execution_count": 8,
     "metadata": {},
     "output_type": "execute_result"
    }
   ],
   "source": [
    "loan1.groupby('policy_code').size().sort_values()"
   ]
  },
  {
   "cell_type": "markdown",
   "metadata": {},
   "source": [
    "### We can see 'pymnt_plan' is skewed towards 'n'. So we can drop it."
   ]
  },
  {
   "cell_type": "code",
   "execution_count": 9,
   "metadata": {},
   "outputs": [
    {
     "data": {
      "text/plain": [
       "pymnt_plan\n",
       "y         7\n",
       "n    269769\n",
       "dtype: int64"
      ]
     },
     "execution_count": 9,
     "metadata": {},
     "output_type": "execute_result"
    }
   ],
   "source": [
    "loan1.groupby('pymnt_plan').size().sort_values()"
   ]
  },
  {
   "cell_type": "markdown",
   "metadata": {},
   "source": [
    "### We can see that 'emp_title', 'zipcode', 'title', 'url' are just a bunch of strings which are not very significant. Hence we can drop them."
   ]
  },
  {
   "cell_type": "code",
   "execution_count": 10,
   "metadata": {},
   "outputs": [
    {
     "data": {
      "text/plain": [
       "0                     NaN\n",
       "1                   Ryder\n",
       "2                     NaN\n",
       "3     AIR RESOURCES BOARD\n",
       "4    Veolia Transportaton\n",
       "Name: emp_title, dtype: object"
      ]
     },
     "execution_count": 10,
     "metadata": {},
     "output_type": "execute_result"
    }
   ],
   "source": [
    "loan1['emp_title'].head() "
   ]
  },
  {
   "cell_type": "code",
   "execution_count": 11,
   "metadata": {},
   "outputs": [
    {
     "data": {
      "text/plain": [
       "0    https://www.lendingclub.com/browse/loanDetail....\n",
       "1    https://www.lendingclub.com/browse/loanDetail....\n",
       "2    https://www.lendingclub.com/browse/loanDetail....\n",
       "3    https://www.lendingclub.com/browse/loanDetail....\n",
       "4    https://www.lendingclub.com/browse/loanDetail....\n",
       "Name: url, dtype: object"
      ]
     },
     "execution_count": 11,
     "metadata": {},
     "output_type": "execute_result"
    }
   ],
   "source": [
    "loan1['url'].head()"
   ]
  },
  {
   "cell_type": "markdown",
   "metadata": {},
   "source": [
    "### We can also eliminate 'acc_now_delinq' as it contains 0 mostly."
   ]
  },
  {
   "cell_type": "code",
   "execution_count": 12,
   "metadata": {},
   "outputs": [
    {
     "data": {
      "text/plain": [
       "count    269751.000000\n",
       "mean          0.003362\n",
       "std           0.062862\n",
       "min           0.000000\n",
       "25%           0.000000\n",
       "50%           0.000000\n",
       "75%           0.000000\n",
       "max           5.000000\n",
       "Name: acc_now_delinq, dtype: float64"
      ]
     },
     "execution_count": 12,
     "metadata": {},
     "output_type": "execute_result"
    }
   ],
   "source": [
    "loan1['acc_now_delinq'].describe()"
   ]
  },
  {
   "cell_type": "code",
   "execution_count": 13,
   "metadata": {},
   "outputs": [
    {
     "data": {
      "text/plain": [
       "acc_now_delinq\n",
       "4.0         2\n",
       "5.0         2\n",
       "3.0         3\n",
       "2.0        40\n",
       "1.0       800\n",
       "0.0    268904\n",
       "dtype: int64"
      ]
     },
     "execution_count": 13,
     "metadata": {},
     "output_type": "execute_result"
    }
   ],
   "source": [
    "loan1.groupby('acc_now_delinq').size().sort_values()"
   ]
  },
  {
   "cell_type": "markdown",
   "metadata": {},
   "source": [
    "### Hence we drop all the above mentioned columns."
   ]
  },
  {
   "cell_type": "code",
   "execution_count": 14,
   "metadata": {},
   "outputs": [],
   "source": [
    "delete = ['policy_code', 'pymnt_plan', 'url', 'member_id', 'acc_now_delinq','emp_title', 'zip_code','title']\n",
    "loan1.drop(delete, axis=1, inplace=True)"
   ]
  },
  {
   "cell_type": "code",
   "execution_count": 15,
   "metadata": {},
   "outputs": [
    {
     "data": {
      "text/html": [
       "<div>\n",
       "<style scoped>\n",
       "    .dataframe tbody tr th:only-of-type {\n",
       "        vertical-align: middle;\n",
       "    }\n",
       "\n",
       "    .dataframe tbody tr th {\n",
       "        vertical-align: top;\n",
       "    }\n",
       "\n",
       "    .dataframe thead th {\n",
       "        text-align: right;\n",
       "    }\n",
       "</style>\n",
       "<table border=\"1\" class=\"dataframe\">\n",
       "  <thead>\n",
       "    <tr style=\"text-align: right;\">\n",
       "      <th></th>\n",
       "      <th>id</th>\n",
       "      <th>loan_amnt</th>\n",
       "      <th>funded_amnt</th>\n",
       "      <th>funded_amnt_inv</th>\n",
       "      <th>term</th>\n",
       "      <th>int_rate</th>\n",
       "      <th>installment</th>\n",
       "      <th>grade</th>\n",
       "      <th>sub_grade</th>\n",
       "      <th>emp_length</th>\n",
       "      <th>...</th>\n",
       "      <th>collection_recovery_fee</th>\n",
       "      <th>last_pymnt_d</th>\n",
       "      <th>last_pymnt_amnt</th>\n",
       "      <th>next_pymnt_d</th>\n",
       "      <th>last_credit_pull_d</th>\n",
       "      <th>collections_12_mths_ex_med</th>\n",
       "      <th>tot_coll_amt</th>\n",
       "      <th>tot_cur_bal</th>\n",
       "      <th>total_rev_hi_lim</th>\n",
       "      <th>Default_Binary</th>\n",
       "    </tr>\n",
       "  </thead>\n",
       "  <tbody>\n",
       "    <tr>\n",
       "      <th>0</th>\n",
       "      <td>1077501</td>\n",
       "      <td>5000.0</td>\n",
       "      <td>5000.0</td>\n",
       "      <td>4975.0</td>\n",
       "      <td>36 months</td>\n",
       "      <td>10.65</td>\n",
       "      <td>162.87</td>\n",
       "      <td>B</td>\n",
       "      <td>B2</td>\n",
       "      <td>10+ years</td>\n",
       "      <td>...</td>\n",
       "      <td>0.00</td>\n",
       "      <td>Jan-2015</td>\n",
       "      <td>171.62</td>\n",
       "      <td>NaN</td>\n",
       "      <td>Jan-2016</td>\n",
       "      <td>0.0</td>\n",
       "      <td>NaN</td>\n",
       "      <td>NaN</td>\n",
       "      <td>NaN</td>\n",
       "      <td>0</td>\n",
       "    </tr>\n",
       "    <tr>\n",
       "      <th>1</th>\n",
       "      <td>1077430</td>\n",
       "      <td>2500.0</td>\n",
       "      <td>2500.0</td>\n",
       "      <td>2500.0</td>\n",
       "      <td>60 months</td>\n",
       "      <td>15.27</td>\n",
       "      <td>59.83</td>\n",
       "      <td>C</td>\n",
       "      <td>C4</td>\n",
       "      <td>&lt; 1 year</td>\n",
       "      <td>...</td>\n",
       "      <td>1.11</td>\n",
       "      <td>Apr-2013</td>\n",
       "      <td>119.66</td>\n",
       "      <td>NaN</td>\n",
       "      <td>Sep-2013</td>\n",
       "      <td>0.0</td>\n",
       "      <td>NaN</td>\n",
       "      <td>NaN</td>\n",
       "      <td>NaN</td>\n",
       "      <td>1</td>\n",
       "    </tr>\n",
       "    <tr>\n",
       "      <th>2</th>\n",
       "      <td>1077175</td>\n",
       "      <td>2400.0</td>\n",
       "      <td>2400.0</td>\n",
       "      <td>2400.0</td>\n",
       "      <td>36 months</td>\n",
       "      <td>15.96</td>\n",
       "      <td>84.33</td>\n",
       "      <td>C</td>\n",
       "      <td>C5</td>\n",
       "      <td>10+ years</td>\n",
       "      <td>...</td>\n",
       "      <td>0.00</td>\n",
       "      <td>Jun-2014</td>\n",
       "      <td>649.91</td>\n",
       "      <td>NaN</td>\n",
       "      <td>Jan-2016</td>\n",
       "      <td>0.0</td>\n",
       "      <td>NaN</td>\n",
       "      <td>NaN</td>\n",
       "      <td>NaN</td>\n",
       "      <td>0</td>\n",
       "    </tr>\n",
       "    <tr>\n",
       "      <th>3</th>\n",
       "      <td>1076863</td>\n",
       "      <td>10000.0</td>\n",
       "      <td>10000.0</td>\n",
       "      <td>10000.0</td>\n",
       "      <td>36 months</td>\n",
       "      <td>13.49</td>\n",
       "      <td>339.31</td>\n",
       "      <td>C</td>\n",
       "      <td>C1</td>\n",
       "      <td>10+ years</td>\n",
       "      <td>...</td>\n",
       "      <td>0.00</td>\n",
       "      <td>Jan-2015</td>\n",
       "      <td>357.48</td>\n",
       "      <td>NaN</td>\n",
       "      <td>Jan-2015</td>\n",
       "      <td>0.0</td>\n",
       "      <td>NaN</td>\n",
       "      <td>NaN</td>\n",
       "      <td>NaN</td>\n",
       "      <td>0</td>\n",
       "    </tr>\n",
       "    <tr>\n",
       "      <th>4</th>\n",
       "      <td>1075269</td>\n",
       "      <td>5000.0</td>\n",
       "      <td>5000.0</td>\n",
       "      <td>5000.0</td>\n",
       "      <td>36 months</td>\n",
       "      <td>7.90</td>\n",
       "      <td>156.46</td>\n",
       "      <td>A</td>\n",
       "      <td>A4</td>\n",
       "      <td>3 years</td>\n",
       "      <td>...</td>\n",
       "      <td>0.00</td>\n",
       "      <td>Jan-2015</td>\n",
       "      <td>161.03</td>\n",
       "      <td>NaN</td>\n",
       "      <td>Sep-2015</td>\n",
       "      <td>0.0</td>\n",
       "      <td>NaN</td>\n",
       "      <td>NaN</td>\n",
       "      <td>NaN</td>\n",
       "      <td>0</td>\n",
       "    </tr>\n",
       "  </tbody>\n",
       "</table>\n",
       "<p>5 rows × 44 columns</p>\n",
       "</div>"
      ],
      "text/plain": [
       "        id  loan_amnt  funded_amnt  funded_amnt_inv        term  int_rate  \\\n",
       "0  1077501     5000.0       5000.0           4975.0   36 months     10.65   \n",
       "1  1077430     2500.0       2500.0           2500.0   60 months     15.27   \n",
       "2  1077175     2400.0       2400.0           2400.0   36 months     15.96   \n",
       "3  1076863    10000.0      10000.0          10000.0   36 months     13.49   \n",
       "4  1075269     5000.0       5000.0           5000.0   36 months      7.90   \n",
       "\n",
       "   installment grade sub_grade emp_length       ...        \\\n",
       "0       162.87     B        B2  10+ years       ...         \n",
       "1        59.83     C        C4   < 1 year       ...         \n",
       "2        84.33     C        C5  10+ years       ...         \n",
       "3       339.31     C        C1  10+ years       ...         \n",
       "4       156.46     A        A4    3 years       ...         \n",
       "\n",
       "  collection_recovery_fee  last_pymnt_d last_pymnt_amnt next_pymnt_d  \\\n",
       "0                    0.00      Jan-2015          171.62          NaN   \n",
       "1                    1.11      Apr-2013          119.66          NaN   \n",
       "2                    0.00      Jun-2014          649.91          NaN   \n",
       "3                    0.00      Jan-2015          357.48          NaN   \n",
       "4                    0.00      Jan-2015          161.03          NaN   \n",
       "\n",
       "  last_credit_pull_d collections_12_mths_ex_med  tot_coll_amt  tot_cur_bal  \\\n",
       "0           Jan-2016                        0.0           NaN          NaN   \n",
       "1           Sep-2013                        0.0           NaN          NaN   \n",
       "2           Jan-2016                        0.0           NaN          NaN   \n",
       "3           Jan-2015                        0.0           NaN          NaN   \n",
       "4           Sep-2015                        0.0           NaN          NaN   \n",
       "\n",
       "  total_rev_hi_lim  Default_Binary  \n",
       "0              NaN               0  \n",
       "1              NaN               1  \n",
       "2              NaN               0  \n",
       "3              NaN               0  \n",
       "4              NaN               0  \n",
       "\n",
       "[5 rows x 44 columns]"
      ]
     },
     "execution_count": 15,
     "metadata": {},
     "output_type": "execute_result"
    }
   ],
   "source": [
    "loan1.head()"
   ]
  },
  {
   "cell_type": "code",
   "execution_count": 16,
   "metadata": {},
   "outputs": [
    {
     "data": {
      "text/plain": [
       "Index(['id', 'loan_amnt', 'funded_amnt', 'funded_amnt_inv', 'term', 'int_rate',\n",
       "       'installment', 'grade', 'sub_grade', 'emp_length', 'home_ownership',\n",
       "       'annual_inc', 'verification_status', 'issue_d', 'purpose', 'addr_state',\n",
       "       'dti', 'delinq_2yrs', 'earliest_cr_line', 'inq_last_6mths', 'open_acc',\n",
       "       'pub_rec', 'revol_bal', 'revol_util', 'total_acc',\n",
       "       'initial_list_status', 'out_prncp', 'out_prncp_inv', 'total_pymnt',\n",
       "       'total_pymnt_inv', 'total_rec_prncp', 'total_rec_int',\n",
       "       'total_rec_late_fee', 'recoveries', 'collection_recovery_fee',\n",
       "       'last_pymnt_d', 'last_pymnt_amnt', 'next_pymnt_d', 'last_credit_pull_d',\n",
       "       'collections_12_mths_ex_med', 'tot_coll_amt', 'tot_cur_bal',\n",
       "       'total_rev_hi_lim', 'Default_Binary'],\n",
       "      dtype='object')"
      ]
     },
     "execution_count": 16,
     "metadata": {},
     "output_type": "execute_result"
    }
   ],
   "source": [
    "loan1.columns"
   ]
  },
  {
   "cell_type": "code",
   "execution_count": 17,
   "metadata": {},
   "outputs": [
    {
     "data": {
      "text/html": [
       "<div>\n",
       "<style scoped>\n",
       "    .dataframe tbody tr th:only-of-type {\n",
       "        vertical-align: middle;\n",
       "    }\n",
       "\n",
       "    .dataframe tbody tr th {\n",
       "        vertical-align: top;\n",
       "    }\n",
       "\n",
       "    .dataframe thead th {\n",
       "        text-align: right;\n",
       "    }\n",
       "</style>\n",
       "<table border=\"1\" class=\"dataframe\">\n",
       "  <thead>\n",
       "    <tr style=\"text-align: right;\">\n",
       "      <th></th>\n",
       "      <th>id</th>\n",
       "      <th>loan_amnt</th>\n",
       "      <th>funded_amnt</th>\n",
       "      <th>funded_amnt_inv</th>\n",
       "      <th>int_rate</th>\n",
       "      <th>installment</th>\n",
       "      <th>annual_inc</th>\n",
       "      <th>dti</th>\n",
       "      <th>delinq_2yrs</th>\n",
       "      <th>inq_last_6mths</th>\n",
       "      <th>...</th>\n",
       "      <th>total_rec_int</th>\n",
       "      <th>total_rec_late_fee</th>\n",
       "      <th>recoveries</th>\n",
       "      <th>collection_recovery_fee</th>\n",
       "      <th>last_pymnt_amnt</th>\n",
       "      <th>collections_12_mths_ex_med</th>\n",
       "      <th>tot_coll_amt</th>\n",
       "      <th>tot_cur_bal</th>\n",
       "      <th>total_rev_hi_lim</th>\n",
       "      <th>Default_Binary</th>\n",
       "    </tr>\n",
       "  </thead>\n",
       "  <tbody>\n",
       "    <tr>\n",
       "      <th>count</th>\n",
       "      <td>2.697760e+05</td>\n",
       "      <td>269776.000000</td>\n",
       "      <td>269776.000000</td>\n",
       "      <td>269776.000000</td>\n",
       "      <td>269776.000000</td>\n",
       "      <td>269776.000000</td>\n",
       "      <td>269776.000000</td>\n",
       "      <td>269776.000000</td>\n",
       "      <td>269751.000000</td>\n",
       "      <td>269751.000000</td>\n",
       "      <td>...</td>\n",
       "      <td>269776.000000</td>\n",
       "      <td>269776.000000</td>\n",
       "      <td>269776.000000</td>\n",
       "      <td>269776.000000</td>\n",
       "      <td>269776.000000</td>\n",
       "      <td>269636.000000</td>\n",
       "      <td>2.034260e+05</td>\n",
       "      <td>2.034260e+05</td>\n",
       "      <td>2.034260e+05</td>\n",
       "      <td>269776.000000</td>\n",
       "    </tr>\n",
       "    <tr>\n",
       "      <th>mean</th>\n",
       "      <td>1.313419e+07</td>\n",
       "      <td>13584.260831</td>\n",
       "      <td>13544.455678</td>\n",
       "      <td>13431.782494</td>\n",
       "      <td>13.892806</td>\n",
       "      <td>418.147395</td>\n",
       "      <td>70594.172529</td>\n",
       "      <td>16.735905</td>\n",
       "      <td>0.258094</td>\n",
       "      <td>0.884512</td>\n",
       "      <td>...</td>\n",
       "      <td>1968.676747</td>\n",
       "      <td>0.902153</td>\n",
       "      <td>150.230408</td>\n",
       "      <td>15.949352</td>\n",
       "      <td>6050.277144</td>\n",
       "      <td>0.007336</td>\n",
       "      <td>2.048456e+02</td>\n",
       "      <td>1.351608e+05</td>\n",
       "      <td>2.921975e+04</td>\n",
       "      <td>0.226132</td>\n",
       "    </tr>\n",
       "    <tr>\n",
       "      <th>std</th>\n",
       "      <td>1.545439e+07</td>\n",
       "      <td>8127.206290</td>\n",
       "      <td>8106.513053</td>\n",
       "      <td>8140.977783</td>\n",
       "      <td>4.412261</td>\n",
       "      <td>244.178970</td>\n",
       "      <td>38366.423211</td>\n",
       "      <td>7.847899</td>\n",
       "      <td>0.759333</td>\n",
       "      <td>1.153317</td>\n",
       "      <td>...</td>\n",
       "      <td>2091.623499</td>\n",
       "      <td>6.156283</td>\n",
       "      <td>727.007842</td>\n",
       "      <td>112.602734</td>\n",
       "      <td>7231.547083</td>\n",
       "      <td>0.093188</td>\n",
       "      <td>2.035834e+04</td>\n",
       "      <td>1.437347e+05</td>\n",
       "      <td>2.759875e+04</td>\n",
       "      <td>0.418326</td>\n",
       "    </tr>\n",
       "    <tr>\n",
       "      <th>min</th>\n",
       "      <td>5.473400e+04</td>\n",
       "      <td>500.000000</td>\n",
       "      <td>500.000000</td>\n",
       "      <td>0.000000</td>\n",
       "      <td>5.320000</td>\n",
       "      <td>15.670000</td>\n",
       "      <td>1896.000000</td>\n",
       "      <td>0.000000</td>\n",
       "      <td>0.000000</td>\n",
       "      <td>0.000000</td>\n",
       "      <td>...</td>\n",
       "      <td>0.000000</td>\n",
       "      <td>0.000000</td>\n",
       "      <td>0.000000</td>\n",
       "      <td>0.000000</td>\n",
       "      <td>0.000000</td>\n",
       "      <td>0.000000</td>\n",
       "      <td>0.000000e+00</td>\n",
       "      <td>0.000000e+00</td>\n",
       "      <td>0.000000e+00</td>\n",
       "      <td>0.000000</td>\n",
       "    </tr>\n",
       "    <tr>\n",
       "      <th>25%</th>\n",
       "      <td>1.477206e+06</td>\n",
       "      <td>7350.000000</td>\n",
       "      <td>7250.000000</td>\n",
       "      <td>7200.000000</td>\n",
       "      <td>10.990000</td>\n",
       "      <td>240.520000</td>\n",
       "      <td>45000.000000</td>\n",
       "      <td>10.900000</td>\n",
       "      <td>0.000000</td>\n",
       "      <td>0.000000</td>\n",
       "      <td>...</td>\n",
       "      <td>635.127500</td>\n",
       "      <td>0.000000</td>\n",
       "      <td>0.000000</td>\n",
       "      <td>0.000000</td>\n",
       "      <td>432.920000</td>\n",
       "      <td>0.000000</td>\n",
       "      <td>0.000000e+00</td>\n",
       "      <td>2.822500e+04</td>\n",
       "      <td>1.320000e+04</td>\n",
       "      <td>0.000000</td>\n",
       "    </tr>\n",
       "    <tr>\n",
       "      <th>50%</th>\n",
       "      <td>6.695138e+06</td>\n",
       "      <td>12000.000000</td>\n",
       "      <td>12000.000000</td>\n",
       "      <td>11975.000000</td>\n",
       "      <td>13.670000</td>\n",
       "      <td>365.300000</td>\n",
       "      <td>62000.000000</td>\n",
       "      <td>16.400000</td>\n",
       "      <td>0.000000</td>\n",
       "      <td>1.000000</td>\n",
       "      <td>...</td>\n",
       "      <td>1324.220000</td>\n",
       "      <td>0.000000</td>\n",
       "      <td>0.000000</td>\n",
       "      <td>0.000000</td>\n",
       "      <td>3256.235000</td>\n",
       "      <td>0.000000</td>\n",
       "      <td>0.000000e+00</td>\n",
       "      <td>7.841600e+04</td>\n",
       "      <td>2.210000e+04</td>\n",
       "      <td>0.000000</td>\n",
       "    </tr>\n",
       "    <tr>\n",
       "      <th>75%</th>\n",
       "      <td>1.901503e+07</td>\n",
       "      <td>18350.000000</td>\n",
       "      <td>18200.000000</td>\n",
       "      <td>18000.000000</td>\n",
       "      <td>16.780000</td>\n",
       "      <td>547.430000</td>\n",
       "      <td>86000.000000</td>\n",
       "      <td>22.220000</td>\n",
       "      <td>0.000000</td>\n",
       "      <td>1.000000</td>\n",
       "      <td>...</td>\n",
       "      <td>2512.382500</td>\n",
       "      <td>0.000000</td>\n",
       "      <td>0.000000</td>\n",
       "      <td>0.000000</td>\n",
       "      <td>9459.425000</td>\n",
       "      <td>0.000000</td>\n",
       "      <td>0.000000e+00</td>\n",
       "      <td>2.051590e+05</td>\n",
       "      <td>3.640000e+04</td>\n",
       "      <td>0.000000</td>\n",
       "    </tr>\n",
       "    <tr>\n",
       "      <th>max</th>\n",
       "      <td>6.860466e+07</td>\n",
       "      <td>35000.000000</td>\n",
       "      <td>35000.000000</td>\n",
       "      <td>35000.000000</td>\n",
       "      <td>28.990000</td>\n",
       "      <td>1424.570000</td>\n",
       "      <td>304800.000000</td>\n",
       "      <td>57.140000</td>\n",
       "      <td>29.000000</td>\n",
       "      <td>33.000000</td>\n",
       "      <td>...</td>\n",
       "      <td>22777.580000</td>\n",
       "      <td>358.680000</td>\n",
       "      <td>33520.270000</td>\n",
       "      <td>7002.190000</td>\n",
       "      <td>36475.590000</td>\n",
       "      <td>6.000000</td>\n",
       "      <td>9.152545e+06</td>\n",
       "      <td>3.610743e+06</td>\n",
       "      <td>1.035000e+06</td>\n",
       "      <td>1.000000</td>\n",
       "    </tr>\n",
       "  </tbody>\n",
       "</table>\n",
       "<p>8 rows × 30 columns</p>\n",
       "</div>"
      ],
      "text/plain": [
       "                 id      loan_amnt    funded_amnt  funded_amnt_inv  \\\n",
       "count  2.697760e+05  269776.000000  269776.000000    269776.000000   \n",
       "mean   1.313419e+07   13584.260831   13544.455678     13431.782494   \n",
       "std    1.545439e+07    8127.206290    8106.513053      8140.977783   \n",
       "min    5.473400e+04     500.000000     500.000000         0.000000   \n",
       "25%    1.477206e+06    7350.000000    7250.000000      7200.000000   \n",
       "50%    6.695138e+06   12000.000000   12000.000000     11975.000000   \n",
       "75%    1.901503e+07   18350.000000   18200.000000     18000.000000   \n",
       "max    6.860466e+07   35000.000000   35000.000000     35000.000000   \n",
       "\n",
       "            int_rate    installment     annual_inc            dti  \\\n",
       "count  269776.000000  269776.000000  269776.000000  269776.000000   \n",
       "mean       13.892806     418.147395   70594.172529      16.735905   \n",
       "std         4.412261     244.178970   38366.423211       7.847899   \n",
       "min         5.320000      15.670000    1896.000000       0.000000   \n",
       "25%        10.990000     240.520000   45000.000000      10.900000   \n",
       "50%        13.670000     365.300000   62000.000000      16.400000   \n",
       "75%        16.780000     547.430000   86000.000000      22.220000   \n",
       "max        28.990000    1424.570000  304800.000000      57.140000   \n",
       "\n",
       "         delinq_2yrs  inq_last_6mths       ...        total_rec_int  \\\n",
       "count  269751.000000   269751.000000       ...        269776.000000   \n",
       "mean        0.258094        0.884512       ...          1968.676747   \n",
       "std         0.759333        1.153317       ...          2091.623499   \n",
       "min         0.000000        0.000000       ...             0.000000   \n",
       "25%         0.000000        0.000000       ...           635.127500   \n",
       "50%         0.000000        1.000000       ...          1324.220000   \n",
       "75%         0.000000        1.000000       ...          2512.382500   \n",
       "max        29.000000       33.000000       ...         22777.580000   \n",
       "\n",
       "       total_rec_late_fee     recoveries  collection_recovery_fee  \\\n",
       "count       269776.000000  269776.000000            269776.000000   \n",
       "mean             0.902153     150.230408                15.949352   \n",
       "std              6.156283     727.007842               112.602734   \n",
       "min              0.000000       0.000000                 0.000000   \n",
       "25%              0.000000       0.000000                 0.000000   \n",
       "50%              0.000000       0.000000                 0.000000   \n",
       "75%              0.000000       0.000000                 0.000000   \n",
       "max            358.680000   33520.270000              7002.190000   \n",
       "\n",
       "       last_pymnt_amnt  collections_12_mths_ex_med  tot_coll_amt  \\\n",
       "count    269776.000000               269636.000000  2.034260e+05   \n",
       "mean       6050.277144                    0.007336  2.048456e+02   \n",
       "std        7231.547083                    0.093188  2.035834e+04   \n",
       "min           0.000000                    0.000000  0.000000e+00   \n",
       "25%         432.920000                    0.000000  0.000000e+00   \n",
       "50%        3256.235000                    0.000000  0.000000e+00   \n",
       "75%        9459.425000                    0.000000  0.000000e+00   \n",
       "max       36475.590000                    6.000000  9.152545e+06   \n",
       "\n",
       "        tot_cur_bal  total_rev_hi_lim  Default_Binary  \n",
       "count  2.034260e+05      2.034260e+05   269776.000000  \n",
       "mean   1.351608e+05      2.921975e+04        0.226132  \n",
       "std    1.437347e+05      2.759875e+04        0.418326  \n",
       "min    0.000000e+00      0.000000e+00        0.000000  \n",
       "25%    2.822500e+04      1.320000e+04        0.000000  \n",
       "50%    7.841600e+04      2.210000e+04        0.000000  \n",
       "75%    2.051590e+05      3.640000e+04        0.000000  \n",
       "max    3.610743e+06      1.035000e+06        1.000000  \n",
       "\n",
       "[8 rows x 30 columns]"
      ]
     },
     "execution_count": 17,
     "metadata": {},
     "output_type": "execute_result"
    }
   ],
   "source": [
    "loan1.describe()"
   ]
  },
  {
   "cell_type": "markdown",
   "metadata": {},
   "source": [
    "### Separating the integer value of months from the string value in the 'term' column."
   ]
  },
  {
   "cell_type": "code",
   "execution_count": 18,
   "metadata": {},
   "outputs": [
    {
     "data": {
      "text/html": [
       "<div>\n",
       "<style scoped>\n",
       "    .dataframe tbody tr th:only-of-type {\n",
       "        vertical-align: middle;\n",
       "    }\n",
       "\n",
       "    .dataframe tbody tr th {\n",
       "        vertical-align: top;\n",
       "    }\n",
       "\n",
       "    .dataframe thead th {\n",
       "        text-align: right;\n",
       "    }\n",
       "</style>\n",
       "<table border=\"1\" class=\"dataframe\">\n",
       "  <thead>\n",
       "    <tr style=\"text-align: right;\">\n",
       "      <th></th>\n",
       "      <th>id</th>\n",
       "      <th>loan_amnt</th>\n",
       "      <th>funded_amnt</th>\n",
       "      <th>funded_amnt_inv</th>\n",
       "      <th>term</th>\n",
       "      <th>int_rate</th>\n",
       "      <th>installment</th>\n",
       "      <th>grade</th>\n",
       "      <th>sub_grade</th>\n",
       "      <th>emp_length</th>\n",
       "      <th>...</th>\n",
       "      <th>collection_recovery_fee</th>\n",
       "      <th>last_pymnt_d</th>\n",
       "      <th>last_pymnt_amnt</th>\n",
       "      <th>next_pymnt_d</th>\n",
       "      <th>last_credit_pull_d</th>\n",
       "      <th>collections_12_mths_ex_med</th>\n",
       "      <th>tot_coll_amt</th>\n",
       "      <th>tot_cur_bal</th>\n",
       "      <th>total_rev_hi_lim</th>\n",
       "      <th>Default_Binary</th>\n",
       "    </tr>\n",
       "  </thead>\n",
       "  <tbody>\n",
       "    <tr>\n",
       "      <th>0</th>\n",
       "      <td>1077501</td>\n",
       "      <td>5000.0</td>\n",
       "      <td>5000.0</td>\n",
       "      <td>4975.0</td>\n",
       "      <td>36</td>\n",
       "      <td>10.65</td>\n",
       "      <td>162.87</td>\n",
       "      <td>B</td>\n",
       "      <td>B2</td>\n",
       "      <td>10+ years</td>\n",
       "      <td>...</td>\n",
       "      <td>0.00</td>\n",
       "      <td>Jan-2015</td>\n",
       "      <td>171.62</td>\n",
       "      <td>NaN</td>\n",
       "      <td>Jan-2016</td>\n",
       "      <td>0.0</td>\n",
       "      <td>NaN</td>\n",
       "      <td>NaN</td>\n",
       "      <td>NaN</td>\n",
       "      <td>0</td>\n",
       "    </tr>\n",
       "    <tr>\n",
       "      <th>1</th>\n",
       "      <td>1077430</td>\n",
       "      <td>2500.0</td>\n",
       "      <td>2500.0</td>\n",
       "      <td>2500.0</td>\n",
       "      <td>60</td>\n",
       "      <td>15.27</td>\n",
       "      <td>59.83</td>\n",
       "      <td>C</td>\n",
       "      <td>C4</td>\n",
       "      <td>&lt; 1 year</td>\n",
       "      <td>...</td>\n",
       "      <td>1.11</td>\n",
       "      <td>Apr-2013</td>\n",
       "      <td>119.66</td>\n",
       "      <td>NaN</td>\n",
       "      <td>Sep-2013</td>\n",
       "      <td>0.0</td>\n",
       "      <td>NaN</td>\n",
       "      <td>NaN</td>\n",
       "      <td>NaN</td>\n",
       "      <td>1</td>\n",
       "    </tr>\n",
       "    <tr>\n",
       "      <th>2</th>\n",
       "      <td>1077175</td>\n",
       "      <td>2400.0</td>\n",
       "      <td>2400.0</td>\n",
       "      <td>2400.0</td>\n",
       "      <td>36</td>\n",
       "      <td>15.96</td>\n",
       "      <td>84.33</td>\n",
       "      <td>C</td>\n",
       "      <td>C5</td>\n",
       "      <td>10+ years</td>\n",
       "      <td>...</td>\n",
       "      <td>0.00</td>\n",
       "      <td>Jun-2014</td>\n",
       "      <td>649.91</td>\n",
       "      <td>NaN</td>\n",
       "      <td>Jan-2016</td>\n",
       "      <td>0.0</td>\n",
       "      <td>NaN</td>\n",
       "      <td>NaN</td>\n",
       "      <td>NaN</td>\n",
       "      <td>0</td>\n",
       "    </tr>\n",
       "    <tr>\n",
       "      <th>3</th>\n",
       "      <td>1076863</td>\n",
       "      <td>10000.0</td>\n",
       "      <td>10000.0</td>\n",
       "      <td>10000.0</td>\n",
       "      <td>36</td>\n",
       "      <td>13.49</td>\n",
       "      <td>339.31</td>\n",
       "      <td>C</td>\n",
       "      <td>C1</td>\n",
       "      <td>10+ years</td>\n",
       "      <td>...</td>\n",
       "      <td>0.00</td>\n",
       "      <td>Jan-2015</td>\n",
       "      <td>357.48</td>\n",
       "      <td>NaN</td>\n",
       "      <td>Jan-2015</td>\n",
       "      <td>0.0</td>\n",
       "      <td>NaN</td>\n",
       "      <td>NaN</td>\n",
       "      <td>NaN</td>\n",
       "      <td>0</td>\n",
       "    </tr>\n",
       "    <tr>\n",
       "      <th>4</th>\n",
       "      <td>1075269</td>\n",
       "      <td>5000.0</td>\n",
       "      <td>5000.0</td>\n",
       "      <td>5000.0</td>\n",
       "      <td>36</td>\n",
       "      <td>7.90</td>\n",
       "      <td>156.46</td>\n",
       "      <td>A</td>\n",
       "      <td>A4</td>\n",
       "      <td>3 years</td>\n",
       "      <td>...</td>\n",
       "      <td>0.00</td>\n",
       "      <td>Jan-2015</td>\n",
       "      <td>161.03</td>\n",
       "      <td>NaN</td>\n",
       "      <td>Sep-2015</td>\n",
       "      <td>0.0</td>\n",
       "      <td>NaN</td>\n",
       "      <td>NaN</td>\n",
       "      <td>NaN</td>\n",
       "      <td>0</td>\n",
       "    </tr>\n",
       "  </tbody>\n",
       "</table>\n",
       "<p>5 rows × 44 columns</p>\n",
       "</div>"
      ],
      "text/plain": [
       "        id  loan_amnt  funded_amnt  funded_amnt_inv term  int_rate  \\\n",
       "0  1077501     5000.0       5000.0           4975.0   36     10.65   \n",
       "1  1077430     2500.0       2500.0           2500.0   60     15.27   \n",
       "2  1077175     2400.0       2400.0           2400.0   36     15.96   \n",
       "3  1076863    10000.0      10000.0          10000.0   36     13.49   \n",
       "4  1075269     5000.0       5000.0           5000.0   36      7.90   \n",
       "\n",
       "   installment grade sub_grade emp_length       ...        \\\n",
       "0       162.87     B        B2  10+ years       ...         \n",
       "1        59.83     C        C4   < 1 year       ...         \n",
       "2        84.33     C        C5  10+ years       ...         \n",
       "3       339.31     C        C1  10+ years       ...         \n",
       "4       156.46     A        A4    3 years       ...         \n",
       "\n",
       "  collection_recovery_fee  last_pymnt_d last_pymnt_amnt next_pymnt_d  \\\n",
       "0                    0.00      Jan-2015          171.62          NaN   \n",
       "1                    1.11      Apr-2013          119.66          NaN   \n",
       "2                    0.00      Jun-2014          649.91          NaN   \n",
       "3                    0.00      Jan-2015          357.48          NaN   \n",
       "4                    0.00      Jan-2015          161.03          NaN   \n",
       "\n",
       "  last_credit_pull_d collections_12_mths_ex_med  tot_coll_amt  tot_cur_bal  \\\n",
       "0           Jan-2016                        0.0           NaN          NaN   \n",
       "1           Sep-2013                        0.0           NaN          NaN   \n",
       "2           Jan-2016                        0.0           NaN          NaN   \n",
       "3           Jan-2015                        0.0           NaN          NaN   \n",
       "4           Sep-2015                        0.0           NaN          NaN   \n",
       "\n",
       "  total_rev_hi_lim  Default_Binary  \n",
       "0              NaN               0  \n",
       "1              NaN               1  \n",
       "2              NaN               0  \n",
       "3              NaN               0  \n",
       "4              NaN               0  \n",
       "\n",
       "[5 rows x 44 columns]"
      ]
     },
     "execution_count": 18,
     "metadata": {},
     "output_type": "execute_result"
    }
   ],
   "source": [
    "loan1['term'] = loan1['term'].str.split(' ').str[1]\n",
    "loan1.head()"
   ]
  },
  {
   "cell_type": "markdown",
   "metadata": {},
   "source": [
    "### Making the interest rate values between 0 and 1."
   ]
  },
  {
   "cell_type": "code",
   "execution_count": 19,
   "metadata": {},
   "outputs": [
    {
     "data": {
      "text/html": [
       "<div>\n",
       "<style scoped>\n",
       "    .dataframe tbody tr th:only-of-type {\n",
       "        vertical-align: middle;\n",
       "    }\n",
       "\n",
       "    .dataframe tbody tr th {\n",
       "        vertical-align: top;\n",
       "    }\n",
       "\n",
       "    .dataframe thead th {\n",
       "        text-align: right;\n",
       "    }\n",
       "</style>\n",
       "<table border=\"1\" class=\"dataframe\">\n",
       "  <thead>\n",
       "    <tr style=\"text-align: right;\">\n",
       "      <th></th>\n",
       "      <th>id</th>\n",
       "      <th>loan_amnt</th>\n",
       "      <th>funded_amnt</th>\n",
       "      <th>funded_amnt_inv</th>\n",
       "      <th>term</th>\n",
       "      <th>int_rate</th>\n",
       "      <th>installment</th>\n",
       "      <th>grade</th>\n",
       "      <th>sub_grade</th>\n",
       "      <th>emp_length</th>\n",
       "      <th>...</th>\n",
       "      <th>collection_recovery_fee</th>\n",
       "      <th>last_pymnt_d</th>\n",
       "      <th>last_pymnt_amnt</th>\n",
       "      <th>next_pymnt_d</th>\n",
       "      <th>last_credit_pull_d</th>\n",
       "      <th>collections_12_mths_ex_med</th>\n",
       "      <th>tot_coll_amt</th>\n",
       "      <th>tot_cur_bal</th>\n",
       "      <th>total_rev_hi_lim</th>\n",
       "      <th>Default_Binary</th>\n",
       "    </tr>\n",
       "  </thead>\n",
       "  <tbody>\n",
       "    <tr>\n",
       "      <th>0</th>\n",
       "      <td>1077501</td>\n",
       "      <td>5000.0</td>\n",
       "      <td>5000.0</td>\n",
       "      <td>4975.0</td>\n",
       "      <td>36</td>\n",
       "      <td>0.1065</td>\n",
       "      <td>162.87</td>\n",
       "      <td>B</td>\n",
       "      <td>B2</td>\n",
       "      <td>10+ years</td>\n",
       "      <td>...</td>\n",
       "      <td>0.00</td>\n",
       "      <td>Jan-2015</td>\n",
       "      <td>171.62</td>\n",
       "      <td>NaN</td>\n",
       "      <td>Jan-2016</td>\n",
       "      <td>0.0</td>\n",
       "      <td>NaN</td>\n",
       "      <td>NaN</td>\n",
       "      <td>NaN</td>\n",
       "      <td>0</td>\n",
       "    </tr>\n",
       "    <tr>\n",
       "      <th>1</th>\n",
       "      <td>1077430</td>\n",
       "      <td>2500.0</td>\n",
       "      <td>2500.0</td>\n",
       "      <td>2500.0</td>\n",
       "      <td>60</td>\n",
       "      <td>0.1527</td>\n",
       "      <td>59.83</td>\n",
       "      <td>C</td>\n",
       "      <td>C4</td>\n",
       "      <td>&lt; 1 year</td>\n",
       "      <td>...</td>\n",
       "      <td>1.11</td>\n",
       "      <td>Apr-2013</td>\n",
       "      <td>119.66</td>\n",
       "      <td>NaN</td>\n",
       "      <td>Sep-2013</td>\n",
       "      <td>0.0</td>\n",
       "      <td>NaN</td>\n",
       "      <td>NaN</td>\n",
       "      <td>NaN</td>\n",
       "      <td>1</td>\n",
       "    </tr>\n",
       "    <tr>\n",
       "      <th>2</th>\n",
       "      <td>1077175</td>\n",
       "      <td>2400.0</td>\n",
       "      <td>2400.0</td>\n",
       "      <td>2400.0</td>\n",
       "      <td>36</td>\n",
       "      <td>0.1596</td>\n",
       "      <td>84.33</td>\n",
       "      <td>C</td>\n",
       "      <td>C5</td>\n",
       "      <td>10+ years</td>\n",
       "      <td>...</td>\n",
       "      <td>0.00</td>\n",
       "      <td>Jun-2014</td>\n",
       "      <td>649.91</td>\n",
       "      <td>NaN</td>\n",
       "      <td>Jan-2016</td>\n",
       "      <td>0.0</td>\n",
       "      <td>NaN</td>\n",
       "      <td>NaN</td>\n",
       "      <td>NaN</td>\n",
       "      <td>0</td>\n",
       "    </tr>\n",
       "    <tr>\n",
       "      <th>3</th>\n",
       "      <td>1076863</td>\n",
       "      <td>10000.0</td>\n",
       "      <td>10000.0</td>\n",
       "      <td>10000.0</td>\n",
       "      <td>36</td>\n",
       "      <td>0.1349</td>\n",
       "      <td>339.31</td>\n",
       "      <td>C</td>\n",
       "      <td>C1</td>\n",
       "      <td>10+ years</td>\n",
       "      <td>...</td>\n",
       "      <td>0.00</td>\n",
       "      <td>Jan-2015</td>\n",
       "      <td>357.48</td>\n",
       "      <td>NaN</td>\n",
       "      <td>Jan-2015</td>\n",
       "      <td>0.0</td>\n",
       "      <td>NaN</td>\n",
       "      <td>NaN</td>\n",
       "      <td>NaN</td>\n",
       "      <td>0</td>\n",
       "    </tr>\n",
       "    <tr>\n",
       "      <th>4</th>\n",
       "      <td>1075269</td>\n",
       "      <td>5000.0</td>\n",
       "      <td>5000.0</td>\n",
       "      <td>5000.0</td>\n",
       "      <td>36</td>\n",
       "      <td>0.0790</td>\n",
       "      <td>156.46</td>\n",
       "      <td>A</td>\n",
       "      <td>A4</td>\n",
       "      <td>3 years</td>\n",
       "      <td>...</td>\n",
       "      <td>0.00</td>\n",
       "      <td>Jan-2015</td>\n",
       "      <td>161.03</td>\n",
       "      <td>NaN</td>\n",
       "      <td>Sep-2015</td>\n",
       "      <td>0.0</td>\n",
       "      <td>NaN</td>\n",
       "      <td>NaN</td>\n",
       "      <td>NaN</td>\n",
       "      <td>0</td>\n",
       "    </tr>\n",
       "  </tbody>\n",
       "</table>\n",
       "<p>5 rows × 44 columns</p>\n",
       "</div>"
      ],
      "text/plain": [
       "        id  loan_amnt  funded_amnt  funded_amnt_inv term  int_rate  \\\n",
       "0  1077501     5000.0       5000.0           4975.0   36    0.1065   \n",
       "1  1077430     2500.0       2500.0           2500.0   60    0.1527   \n",
       "2  1077175     2400.0       2400.0           2400.0   36    0.1596   \n",
       "3  1076863    10000.0      10000.0          10000.0   36    0.1349   \n",
       "4  1075269     5000.0       5000.0           5000.0   36    0.0790   \n",
       "\n",
       "   installment grade sub_grade emp_length       ...        \\\n",
       "0       162.87     B        B2  10+ years       ...         \n",
       "1        59.83     C        C4   < 1 year       ...         \n",
       "2        84.33     C        C5  10+ years       ...         \n",
       "3       339.31     C        C1  10+ years       ...         \n",
       "4       156.46     A        A4    3 years       ...         \n",
       "\n",
       "  collection_recovery_fee  last_pymnt_d last_pymnt_amnt next_pymnt_d  \\\n",
       "0                    0.00      Jan-2015          171.62          NaN   \n",
       "1                    1.11      Apr-2013          119.66          NaN   \n",
       "2                    0.00      Jun-2014          649.91          NaN   \n",
       "3                    0.00      Jan-2015          357.48          NaN   \n",
       "4                    0.00      Jan-2015          161.03          NaN   \n",
       "\n",
       "  last_credit_pull_d collections_12_mths_ex_med  tot_coll_amt  tot_cur_bal  \\\n",
       "0           Jan-2016                        0.0           NaN          NaN   \n",
       "1           Sep-2013                        0.0           NaN          NaN   \n",
       "2           Jan-2016                        0.0           NaN          NaN   \n",
       "3           Jan-2015                        0.0           NaN          NaN   \n",
       "4           Sep-2015                        0.0           NaN          NaN   \n",
       "\n",
       "  total_rev_hi_lim  Default_Binary  \n",
       "0              NaN               0  \n",
       "1              NaN               1  \n",
       "2              NaN               0  \n",
       "3              NaN               0  \n",
       "4              NaN               0  \n",
       "\n",
       "[5 rows x 44 columns]"
      ]
     },
     "execution_count": 19,
     "metadata": {},
     "output_type": "execute_result"
    }
   ],
   "source": [
    "loan1['int_rate'] = loan1.int_rate.astype(float)/100.\n",
    "loan1.head()"
   ]
  },
  {
   "cell_type": "code",
   "execution_count": null,
   "metadata": {},
   "outputs": [],
   "source": []
  },
  {
   "cell_type": "markdown",
   "metadata": {},
   "source": [
    "### Keeping just the integer values in the 'emp_length' column and eliminating the '+', '<' symbols from the column."
   ]
  },
  {
   "cell_type": "code",
   "execution_count": 20,
   "metadata": {},
   "outputs": [
    {
     "data": {
      "text/plain": [
       "emp_length\n",
       "9 years      10220\n",
       "8 years      12639\n",
       "7 years      14907\n",
       "6 years      15616\n",
       "4 years      17225\n",
       "1 year       18163\n",
       "5 years      19080\n",
       "3 years      21772\n",
       "< 1 year     22617\n",
       "2 years      25150\n",
       "10+ years    81530\n",
       "dtype: int64"
      ]
     },
     "execution_count": 20,
     "metadata": {},
     "output_type": "execute_result"
    }
   ],
   "source": [
    "loan1.groupby('emp_length').size().sort_values()"
   ]
  },
  {
   "cell_type": "code",
   "execution_count": 21,
   "metadata": {},
   "outputs": [
    {
     "data": {
      "text/plain": [
       "10857"
      ]
     },
     "execution_count": 21,
     "metadata": {},
     "output_type": "execute_result"
    }
   ],
   "source": [
    "loan1['emp_length'].isnull().sum()"
   ]
  },
  {
   "cell_type": "code",
   "execution_count": 22,
   "metadata": {},
   "outputs": [],
   "source": [
    "loan1['emp_length'] = loan1['emp_length'].str.extract('(\\d+)').astype(float)"
   ]
  },
  {
   "cell_type": "code",
   "execution_count": 23,
   "metadata": {},
   "outputs": [
    {
     "data": {
      "text/html": [
       "<div>\n",
       "<style scoped>\n",
       "    .dataframe tbody tr th:only-of-type {\n",
       "        vertical-align: middle;\n",
       "    }\n",
       "\n",
       "    .dataframe tbody tr th {\n",
       "        vertical-align: top;\n",
       "    }\n",
       "\n",
       "    .dataframe thead th {\n",
       "        text-align: right;\n",
       "    }\n",
       "</style>\n",
       "<table border=\"1\" class=\"dataframe\">\n",
       "  <thead>\n",
       "    <tr style=\"text-align: right;\">\n",
       "      <th></th>\n",
       "      <th>id</th>\n",
       "      <th>loan_amnt</th>\n",
       "      <th>funded_amnt</th>\n",
       "      <th>funded_amnt_inv</th>\n",
       "      <th>term</th>\n",
       "      <th>int_rate</th>\n",
       "      <th>installment</th>\n",
       "      <th>grade</th>\n",
       "      <th>sub_grade</th>\n",
       "      <th>emp_length</th>\n",
       "      <th>...</th>\n",
       "      <th>collection_recovery_fee</th>\n",
       "      <th>last_pymnt_d</th>\n",
       "      <th>last_pymnt_amnt</th>\n",
       "      <th>next_pymnt_d</th>\n",
       "      <th>last_credit_pull_d</th>\n",
       "      <th>collections_12_mths_ex_med</th>\n",
       "      <th>tot_coll_amt</th>\n",
       "      <th>tot_cur_bal</th>\n",
       "      <th>total_rev_hi_lim</th>\n",
       "      <th>Default_Binary</th>\n",
       "    </tr>\n",
       "  </thead>\n",
       "  <tbody>\n",
       "    <tr>\n",
       "      <th>0</th>\n",
       "      <td>1077501</td>\n",
       "      <td>5000.0</td>\n",
       "      <td>5000.0</td>\n",
       "      <td>4975.0</td>\n",
       "      <td>36</td>\n",
       "      <td>0.1065</td>\n",
       "      <td>162.87</td>\n",
       "      <td>B</td>\n",
       "      <td>B2</td>\n",
       "      <td>10.0</td>\n",
       "      <td>...</td>\n",
       "      <td>0.00</td>\n",
       "      <td>Jan-2015</td>\n",
       "      <td>171.62</td>\n",
       "      <td>NaN</td>\n",
       "      <td>Jan-2016</td>\n",
       "      <td>0.0</td>\n",
       "      <td>NaN</td>\n",
       "      <td>NaN</td>\n",
       "      <td>NaN</td>\n",
       "      <td>0</td>\n",
       "    </tr>\n",
       "    <tr>\n",
       "      <th>1</th>\n",
       "      <td>1077430</td>\n",
       "      <td>2500.0</td>\n",
       "      <td>2500.0</td>\n",
       "      <td>2500.0</td>\n",
       "      <td>60</td>\n",
       "      <td>0.1527</td>\n",
       "      <td>59.83</td>\n",
       "      <td>C</td>\n",
       "      <td>C4</td>\n",
       "      <td>1.0</td>\n",
       "      <td>...</td>\n",
       "      <td>1.11</td>\n",
       "      <td>Apr-2013</td>\n",
       "      <td>119.66</td>\n",
       "      <td>NaN</td>\n",
       "      <td>Sep-2013</td>\n",
       "      <td>0.0</td>\n",
       "      <td>NaN</td>\n",
       "      <td>NaN</td>\n",
       "      <td>NaN</td>\n",
       "      <td>1</td>\n",
       "    </tr>\n",
       "    <tr>\n",
       "      <th>2</th>\n",
       "      <td>1077175</td>\n",
       "      <td>2400.0</td>\n",
       "      <td>2400.0</td>\n",
       "      <td>2400.0</td>\n",
       "      <td>36</td>\n",
       "      <td>0.1596</td>\n",
       "      <td>84.33</td>\n",
       "      <td>C</td>\n",
       "      <td>C5</td>\n",
       "      <td>10.0</td>\n",
       "      <td>...</td>\n",
       "      <td>0.00</td>\n",
       "      <td>Jun-2014</td>\n",
       "      <td>649.91</td>\n",
       "      <td>NaN</td>\n",
       "      <td>Jan-2016</td>\n",
       "      <td>0.0</td>\n",
       "      <td>NaN</td>\n",
       "      <td>NaN</td>\n",
       "      <td>NaN</td>\n",
       "      <td>0</td>\n",
       "    </tr>\n",
       "    <tr>\n",
       "      <th>3</th>\n",
       "      <td>1076863</td>\n",
       "      <td>10000.0</td>\n",
       "      <td>10000.0</td>\n",
       "      <td>10000.0</td>\n",
       "      <td>36</td>\n",
       "      <td>0.1349</td>\n",
       "      <td>339.31</td>\n",
       "      <td>C</td>\n",
       "      <td>C1</td>\n",
       "      <td>10.0</td>\n",
       "      <td>...</td>\n",
       "      <td>0.00</td>\n",
       "      <td>Jan-2015</td>\n",
       "      <td>357.48</td>\n",
       "      <td>NaN</td>\n",
       "      <td>Jan-2015</td>\n",
       "      <td>0.0</td>\n",
       "      <td>NaN</td>\n",
       "      <td>NaN</td>\n",
       "      <td>NaN</td>\n",
       "      <td>0</td>\n",
       "    </tr>\n",
       "    <tr>\n",
       "      <th>4</th>\n",
       "      <td>1075269</td>\n",
       "      <td>5000.0</td>\n",
       "      <td>5000.0</td>\n",
       "      <td>5000.0</td>\n",
       "      <td>36</td>\n",
       "      <td>0.0790</td>\n",
       "      <td>156.46</td>\n",
       "      <td>A</td>\n",
       "      <td>A4</td>\n",
       "      <td>3.0</td>\n",
       "      <td>...</td>\n",
       "      <td>0.00</td>\n",
       "      <td>Jan-2015</td>\n",
       "      <td>161.03</td>\n",
       "      <td>NaN</td>\n",
       "      <td>Sep-2015</td>\n",
       "      <td>0.0</td>\n",
       "      <td>NaN</td>\n",
       "      <td>NaN</td>\n",
       "      <td>NaN</td>\n",
       "      <td>0</td>\n",
       "    </tr>\n",
       "  </tbody>\n",
       "</table>\n",
       "<p>5 rows × 44 columns</p>\n",
       "</div>"
      ],
      "text/plain": [
       "        id  loan_amnt  funded_amnt  funded_amnt_inv term  int_rate  \\\n",
       "0  1077501     5000.0       5000.0           4975.0   36    0.1065   \n",
       "1  1077430     2500.0       2500.0           2500.0   60    0.1527   \n",
       "2  1077175     2400.0       2400.0           2400.0   36    0.1596   \n",
       "3  1076863    10000.0      10000.0          10000.0   36    0.1349   \n",
       "4  1075269     5000.0       5000.0           5000.0   36    0.0790   \n",
       "\n",
       "   installment grade sub_grade  emp_length       ...        \\\n",
       "0       162.87     B        B2        10.0       ...         \n",
       "1        59.83     C        C4         1.0       ...         \n",
       "2        84.33     C        C5        10.0       ...         \n",
       "3       339.31     C        C1        10.0       ...         \n",
       "4       156.46     A        A4         3.0       ...         \n",
       "\n",
       "  collection_recovery_fee  last_pymnt_d last_pymnt_amnt next_pymnt_d  \\\n",
       "0                    0.00      Jan-2015          171.62          NaN   \n",
       "1                    1.11      Apr-2013          119.66          NaN   \n",
       "2                    0.00      Jun-2014          649.91          NaN   \n",
       "3                    0.00      Jan-2015          357.48          NaN   \n",
       "4                    0.00      Jan-2015          161.03          NaN   \n",
       "\n",
       "  last_credit_pull_d collections_12_mths_ex_med  tot_coll_amt  tot_cur_bal  \\\n",
       "0           Jan-2016                        0.0           NaN          NaN   \n",
       "1           Sep-2013                        0.0           NaN          NaN   \n",
       "2           Jan-2016                        0.0           NaN          NaN   \n",
       "3           Jan-2015                        0.0           NaN          NaN   \n",
       "4           Sep-2015                        0.0           NaN          NaN   \n",
       "\n",
       "  total_rev_hi_lim  Default_Binary  \n",
       "0              NaN               0  \n",
       "1              NaN               1  \n",
       "2              NaN               0  \n",
       "3              NaN               0  \n",
       "4              NaN               0  \n",
       "\n",
       "[5 rows x 44 columns]"
      ]
     },
     "execution_count": 23,
     "metadata": {},
     "output_type": "execute_result"
    }
   ],
   "source": [
    "loan1.head()"
   ]
  },
  {
   "cell_type": "code",
   "execution_count": 24,
   "metadata": {},
   "outputs": [],
   "source": [
    "loan1['emp_length'].fillna(0, inplace=True)   #New self - employed people fill their 'emp_length' as 0."
   ]
  },
  {
   "cell_type": "code",
   "execution_count": 25,
   "metadata": {},
   "outputs": [
    {
     "data": {
      "text/plain": [
       "10.0    81530\n",
       "1.0     40780\n",
       "2.0     25150\n",
       "3.0     21772\n",
       "5.0     19080\n",
       "4.0     17225\n",
       "6.0     15616\n",
       "7.0     14907\n",
       "8.0     12639\n",
       "0.0     10857\n",
       "9.0     10220\n",
       "Name: emp_length, dtype: int64"
      ]
     },
     "execution_count": 25,
     "metadata": {},
     "output_type": "execute_result"
    }
   ],
   "source": [
    "loan1['emp_length'].value_counts()"
   ]
  },
  {
   "cell_type": "code",
   "execution_count": 26,
   "metadata": {},
   "outputs": [
    {
     "name": "stdout",
     "output_type": "stream",
     "text": [
      "<class 'pandas.core.frame.DataFrame'>\n",
      "RangeIndex: 269776 entries, 0 to 269775\n",
      "Data columns (total 44 columns):\n",
      "id                            269776 non-null int64\n",
      "loan_amnt                     269776 non-null float64\n",
      "funded_amnt                   269776 non-null float64\n",
      "funded_amnt_inv               269776 non-null float64\n",
      "term                          269776 non-null object\n",
      "int_rate                      269776 non-null float64\n",
      "installment                   269776 non-null float64\n",
      "grade                         269776 non-null object\n",
      "sub_grade                     269776 non-null object\n",
      "emp_length                    269776 non-null float64\n",
      "home_ownership                269776 non-null object\n",
      "annual_inc                    269776 non-null float64\n",
      "verification_status           269776 non-null object\n",
      "issue_d                       269776 non-null object\n",
      "purpose                       269776 non-null object\n",
      "addr_state                    269776 non-null object\n",
      "dti                           269776 non-null float64\n",
      "delinq_2yrs                   269751 non-null float64\n",
      "earliest_cr_line              269751 non-null object\n",
      "inq_last_6mths                269751 non-null float64\n",
      "open_acc                      269751 non-null float64\n",
      "pub_rec                       269751 non-null float64\n",
      "revol_bal                     269776 non-null float64\n",
      "revol_util                    269533 non-null float64\n",
      "total_acc                     269751 non-null float64\n",
      "initial_list_status           269776 non-null object\n",
      "out_prncp                     269776 non-null float64\n",
      "out_prncp_inv                 269776 non-null float64\n",
      "total_pymnt                   269776 non-null float64\n",
      "total_pymnt_inv               269776 non-null float64\n",
      "total_rec_prncp               269776 non-null float64\n",
      "total_rec_int                 269776 non-null float64\n",
      "total_rec_late_fee            269776 non-null float64\n",
      "recoveries                    269776 non-null float64\n",
      "collection_recovery_fee       269776 non-null float64\n",
      "last_pymnt_d                  269071 non-null object\n",
      "last_pymnt_amnt               269776 non-null float64\n",
      "next_pymnt_d                  17823 non-null object\n",
      "last_credit_pull_d            269752 non-null object\n",
      "collections_12_mths_ex_med    269636 non-null float64\n",
      "tot_coll_amt                  203426 non-null float64\n",
      "tot_cur_bal                   203426 non-null float64\n",
      "total_rev_hi_lim              203426 non-null float64\n",
      "Default_Binary                269776 non-null int64\n",
      "dtypes: float64(29), int64(2), object(13)\n",
      "memory usage: 90.6+ MB\n"
     ]
    }
   ],
   "source": [
    "loan1.info()"
   ]
  },
  {
   "cell_type": "markdown",
   "metadata": {},
   "source": [
    "### Checking the number of null values in all the columns."
   ]
  },
  {
   "cell_type": "code",
   "execution_count": 27,
   "metadata": {},
   "outputs": [
    {
     "data": {
      "text/plain": [
       "next_pymnt_d                  251953\n",
       "total_rev_hi_lim               66350\n",
       "tot_cur_bal                    66350\n",
       "tot_coll_amt                   66350\n",
       "last_pymnt_d                     705\n",
       "revol_util                       243\n",
       "collections_12_mths_ex_med       140\n",
       "total_acc                         25\n",
       "pub_rec                           25\n",
       "open_acc                          25\n",
       "inq_last_6mths                    25\n",
       "earliest_cr_line                  25\n",
       "delinq_2yrs                       25\n",
       "last_credit_pull_d                24\n",
       "dtype: int64"
      ]
     },
     "execution_count": 27,
     "metadata": {},
     "output_type": "execute_result"
    }
   ],
   "source": [
    "null_counts = loan1.isnull().sum()\n",
    "null_counts[null_counts > 0].sort_values(ascending=False)"
   ]
  },
  {
   "cell_type": "markdown",
   "metadata": {},
   "source": [
    "### Columns * 'next_pymnt_d', 'last_pymnt_d','last_credit_pull_d'* have either too many null values or are insignificant. Hence drop them."
   ]
  },
  {
   "cell_type": "code",
   "execution_count": 28,
   "metadata": {},
   "outputs": [],
   "source": [
    "loan1.drop(['next_pymnt_d','last_pymnt_d','last_credit_pull_d','addr_state'], axis=1, inplace=True)"
   ]
  },
  {
   "cell_type": "markdown",
   "metadata": {},
   "source": [
    "### Fill columns *'total_rev_hi_lim','tot_cur_bal'* with their median values."
   ]
  },
  {
   "cell_type": "code",
   "execution_count": 29,
   "metadata": {},
   "outputs": [],
   "source": [
    "loan1['total_rev_hi_lim'].fillna(loan1['total_rev_hi_lim'].median(), inplace=True)"
   ]
  },
  {
   "cell_type": "code",
   "execution_count": 30,
   "metadata": {},
   "outputs": [],
   "source": [
    "loan1['tot_cur_bal'].fillna(loan1['tot_cur_bal'].median(), inplace=True)"
   ]
  },
  {
   "cell_type": "markdown",
   "metadata": {},
   "source": [
    "### Columns *'tot_coll_amt', 'collections_12_mths_ex_med','earliest_cr_line'* have more than 75 percentile zero values. Hence drop them."
   ]
  },
  {
   "cell_type": "code",
   "execution_count": 31,
   "metadata": {},
   "outputs": [],
   "source": [
    "loan1.drop(['tot_coll_amt','collections_12_mths_ex_med','earliest_cr_line'], axis=1, inplace=True)"
   ]
  },
  {
   "cell_type": "markdown",
   "metadata": {},
   "source": [
    "### Dropping null values from *'pub_rec','revol_util', 'total_acc', 'annual_inc', 'delinq_2yrs', 'inq_last_6mths', 'open_acc','emp_length'*."
   ]
  },
  {
   "cell_type": "code",
   "execution_count": 32,
   "metadata": {},
   "outputs": [],
   "source": [
    "loan1.dropna(subset=['pub_rec','revol_util', 'total_acc', 'annual_inc', 'delinq_2yrs', 'inq_last_6mths', 'open_acc','emp_length'], inplace = True)"
   ]
  },
  {
   "cell_type": "code",
   "execution_count": 33,
   "metadata": {},
   "outputs": [
    {
     "data": {
      "text/plain": [
       "id                         0\n",
       "loan_amnt                  0\n",
       "funded_amnt                0\n",
       "funded_amnt_inv            0\n",
       "term                       0\n",
       "int_rate                   0\n",
       "installment                0\n",
       "grade                      0\n",
       "sub_grade                  0\n",
       "emp_length                 0\n",
       "home_ownership             0\n",
       "annual_inc                 0\n",
       "verification_status        0\n",
       "issue_d                    0\n",
       "purpose                    0\n",
       "dti                        0\n",
       "delinq_2yrs                0\n",
       "inq_last_6mths             0\n",
       "open_acc                   0\n",
       "pub_rec                    0\n",
       "revol_bal                  0\n",
       "revol_util                 0\n",
       "total_acc                  0\n",
       "initial_list_status        0\n",
       "out_prncp                  0\n",
       "out_prncp_inv              0\n",
       "total_pymnt                0\n",
       "total_pymnt_inv            0\n",
       "total_rec_prncp            0\n",
       "total_rec_int              0\n",
       "total_rec_late_fee         0\n",
       "recoveries                 0\n",
       "collection_recovery_fee    0\n",
       "last_pymnt_amnt            0\n",
       "tot_cur_bal                0\n",
       "total_rev_hi_lim           0\n",
       "Default_Binary             0\n",
       "dtype: int64"
      ]
     },
     "execution_count": 33,
     "metadata": {},
     "output_type": "execute_result"
    }
   ],
   "source": [
    "loan1.isnull().sum()"
   ]
  },
  {
   "cell_type": "markdown",
   "metadata": {},
   "source": [
    "#### Hence no null values."
   ]
  },
  {
   "cell_type": "markdown",
   "metadata": {},
   "source": [
    "### Dropping *'sub_grade'* column because it is same as column 'grade' and drop 'loan_status' column as it's already been modified to 'Default_Binary'. Also 'issue_d' doesn't bring any significance."
   ]
  },
  {
   "cell_type": "code",
   "execution_count": 34,
   "metadata": {},
   "outputs": [],
   "source": [
    "loan1.drop(['sub_grade','issue_d'], axis=1, inplace=True)"
   ]
  },
  {
   "cell_type": "markdown",
   "metadata": {},
   "source": [
    "### Convert 'term' column to string, so that later we can convert it into dummy variable columns."
   ]
  },
  {
   "cell_type": "code",
   "execution_count": 35,
   "metadata": {},
   "outputs": [
    {
     "data": {
      "text/plain": [
       "array(['36', '60'], dtype=object)"
      ]
     },
     "execution_count": 35,
     "metadata": {},
     "output_type": "execute_result"
    }
   ],
   "source": [
    "loan1['term'].unique()"
   ]
  },
  {
   "cell_type": "code",
   "execution_count": 36,
   "metadata": {},
   "outputs": [
    {
     "data": {
      "text/plain": [
       "36    207279\n",
       "60     62254\n",
       "Name: term, dtype: int64"
      ]
     },
     "execution_count": 36,
     "metadata": {},
     "output_type": "execute_result"
    }
   ],
   "source": [
    "loan1['term'].value_counts()"
   ]
  },
  {
   "cell_type": "code",
   "execution_count": 37,
   "metadata": {},
   "outputs": [
    {
     "data": {
      "text/html": [
       "<div>\n",
       "<style scoped>\n",
       "    .dataframe tbody tr th:only-of-type {\n",
       "        vertical-align: middle;\n",
       "    }\n",
       "\n",
       "    .dataframe tbody tr th {\n",
       "        vertical-align: top;\n",
       "    }\n",
       "\n",
       "    .dataframe thead th {\n",
       "        text-align: right;\n",
       "    }\n",
       "</style>\n",
       "<table border=\"1\" class=\"dataframe\">\n",
       "  <thead>\n",
       "    <tr style=\"text-align: right;\">\n",
       "      <th></th>\n",
       "      <th>funded_amnt</th>\n",
       "      <th>funded_amnt_inv</th>\n",
       "      <th>loan_amnt</th>\n",
       "    </tr>\n",
       "  </thead>\n",
       "  <tbody>\n",
       "    <tr>\n",
       "      <th>0</th>\n",
       "      <td>5000.0</td>\n",
       "      <td>4975.0</td>\n",
       "      <td>5000.0</td>\n",
       "    </tr>\n",
       "    <tr>\n",
       "      <th>1</th>\n",
       "      <td>2500.0</td>\n",
       "      <td>2500.0</td>\n",
       "      <td>2500.0</td>\n",
       "    </tr>\n",
       "    <tr>\n",
       "      <th>2</th>\n",
       "      <td>2400.0</td>\n",
       "      <td>2400.0</td>\n",
       "      <td>2400.0</td>\n",
       "    </tr>\n",
       "    <tr>\n",
       "      <th>3</th>\n",
       "      <td>10000.0</td>\n",
       "      <td>10000.0</td>\n",
       "      <td>10000.0</td>\n",
       "    </tr>\n",
       "    <tr>\n",
       "      <th>4</th>\n",
       "      <td>5000.0</td>\n",
       "      <td>5000.0</td>\n",
       "      <td>5000.0</td>\n",
       "    </tr>\n",
       "  </tbody>\n",
       "</table>\n",
       "</div>"
      ],
      "text/plain": [
       "   funded_amnt  funded_amnt_inv  loan_amnt\n",
       "0       5000.0           4975.0     5000.0\n",
       "1       2500.0           2500.0     2500.0\n",
       "2       2400.0           2400.0     2400.0\n",
       "3      10000.0          10000.0    10000.0\n",
       "4       5000.0           5000.0     5000.0"
      ]
     },
     "execution_count": 37,
     "metadata": {},
     "output_type": "execute_result"
    }
   ],
   "source": [
    "loan1[['funded_amnt','funded_amnt_inv','loan_amnt']].head()"
   ]
  },
  {
   "cell_type": "markdown",
   "metadata": {},
   "source": [
    "* We can see that all the 3 columns are same, so we can eliminate 2 of those columns. I will drop 'funded_amnt' and 'funded_amnt_inv'."
   ]
  },
  {
   "cell_type": "code",
   "execution_count": 38,
   "metadata": {},
   "outputs": [],
   "source": [
    "loan1.drop(['funded_amnt','funded_amnt_inv'], axis=1, inplace=True)"
   ]
  },
  {
   "cell_type": "markdown",
   "metadata": {},
   "source": [
    "### In the column *'verification_status'*, 'Source Verified' and 'Verified' are the same thing. So I am putting them together."
   ]
  },
  {
   "cell_type": "code",
   "execution_count": 39,
   "metadata": {},
   "outputs": [
    {
     "data": {
      "text/plain": [
       "Verified           98634\n",
       "Not Verified       90949\n",
       "Source Verified    79950\n",
       "Name: verification_status, dtype: int64"
      ]
     },
     "execution_count": 39,
     "metadata": {},
     "output_type": "execute_result"
    }
   ],
   "source": [
    "loan1['verification_status'].value_counts()"
   ]
  },
  {
   "cell_type": "code",
   "execution_count": 40,
   "metadata": {},
   "outputs": [],
   "source": [
    "loan1['verification_status']=np.where(loan1['verification_status'] =='Source Verified', 'Verified', loan1['verification_status'])"
   ]
  },
  {
   "cell_type": "code",
   "execution_count": 41,
   "metadata": {},
   "outputs": [
    {
     "data": {
      "text/plain": [
       "Verified        178584\n",
       "Not Verified     90949\n",
       "Name: verification_status, dtype: int64"
      ]
     },
     "execution_count": 41,
     "metadata": {},
     "output_type": "execute_result"
    }
   ],
   "source": [
    "loan1['verification_status'].value_counts()"
   ]
  },
  {
   "cell_type": "markdown",
   "metadata": {},
   "source": [
    "### Columns [*'delinq_2yrs', 'total_rec_late_fee', 'recoveries', 'collection_recovery_fee', 'inq_last_6mths', 'pub_rec'*] are very skewed towards zero (75% are zeros). Let's make it categorical: no when the columns == 0 and yes when they're > 0 "
   ]
  },
  {
   "cell_type": "code",
   "execution_count": 42,
   "metadata": {},
   "outputs": [
    {
     "name": "stdout",
     "output_type": "stream",
     "text": [
      "We need to drop this 'pub_rec' column because 87.50% of values are zero.\n"
     ]
    }
   ],
   "source": [
    "recs_zero = (len(loan1[loan1['pub_rec']==0])/len(loan1))*100\n",
    "print(\"We need to drop this 'pub_rec' column because {0:.2f}% of values are zero.\".format(recs_zero))"
   ]
  },
  {
   "cell_type": "code",
   "execution_count": 43,
   "metadata": {},
   "outputs": [
    {
     "name": "stdout",
     "output_type": "stream",
     "text": [
      "We need to drop this 'delinq_2yrs' column because 83.54% of values are zero.\n"
     ]
    }
   ],
   "source": [
    "delinq_zero = (len(loan1[loan1['delinq_2yrs']==0])/len(loan1))*100\n",
    "print(\"We need to drop this 'delinq_2yrs' column because {0:.2f}% of values are zero.\".format(delinq_zero))"
   ]
  },
  {
   "cell_type": "code",
   "execution_count": 44,
   "metadata": {},
   "outputs": [
    {
     "name": "stdout",
     "output_type": "stream",
     "text": [
      "We won't drop this 'inq_last_6mths' column because just 48.58% of values are zero.\n"
     ]
    }
   ],
   "source": [
    "inq_zero = (len(loan1[loan1['inq_last_6mths']==0])/len(loan1))*100\n",
    "print(\"We won't drop this 'inq_last_6mths' column because just {0:.2f}% of values are zero.\".format(inq_zero))"
   ]
  },
  {
   "cell_type": "code",
   "execution_count": 45,
   "metadata": {},
   "outputs": [
    {
     "name": "stdout",
     "output_type": "stream",
     "text": [
      "We need to drop this 'total_rec_late_fee' column because 96.82% of values are zero.\n"
     ]
    }
   ],
   "source": [
    "tot_zero = (len(loan1[loan1['total_rec_late_fee']==0])/len(loan1))*100\n",
    "print(\"We need to drop this 'total_rec_late_fee' column because {0:.2f}% of values are zero.\".format(tot_zero))"
   ]
  },
  {
   "cell_type": "code",
   "execution_count": 46,
   "metadata": {},
   "outputs": [
    {
     "name": "stdout",
     "output_type": "stream",
     "text": [
      "We need to drop this 'recoveries' column because 90.88% of values are zero.\n"
     ]
    }
   ],
   "source": [
    "rec_zero = (len(loan1[loan1['recoveries']==0])/len(loan1))*100\n",
    "print(\"We need to drop this 'recoveries' column because {0:.2f}% of values are zero.\".format(rec_zero))"
   ]
  },
  {
   "cell_type": "code",
   "execution_count": 47,
   "metadata": {},
   "outputs": [
    {
     "name": "stdout",
     "output_type": "stream",
     "text": [
      "We need to drop this 'collection_recovery_fee' column because 91.32% of values are zero.\n"
     ]
    }
   ],
   "source": [
    "coll_zero = (len(loan1[loan1['collection_recovery_fee']==0])/len(loan1))*100\n",
    "print(\"We need to drop this 'collection_recovery_fee' column because {0:.2f}% of values are zero.\".format(coll_zero))"
   ]
  },
  {
   "cell_type": "code",
   "execution_count": 48,
   "metadata": {},
   "outputs": [],
   "source": [
    "loan1.drop(['delinq_2yrs','total_rec_late_fee','recoveries','collection_recovery_fee','pub_rec'], axis=1, inplace=True)"
   ]
  },
  {
   "cell_type": "code",
   "execution_count": 49,
   "metadata": {},
   "outputs": [
    {
     "data": {
      "text/plain": [
       "0.0     130942\n",
       "1.0      77132\n",
       "2.0      36682\n",
       "3.0      16931\n",
       "4.0       4658\n",
       "5.0       1921\n",
       "6.0        819\n",
       "7.0        189\n",
       "8.0        117\n",
       "9.0         49\n",
       "10.0        23\n",
       "12.0        15\n",
       "11.0        15\n",
       "15.0         9\n",
       "13.0         6\n",
       "14.0         5\n",
       "18.0         4\n",
       "16.0         3\n",
       "19.0         2\n",
       "17.0         2\n",
       "24.0         2\n",
       "28.0         1\n",
       "31.0         1\n",
       "32.0         1\n",
       "25.0         1\n",
       "33.0         1\n",
       "20.0         1\n",
       "27.0         1\n",
       "Name: inq_last_6mths, dtype: int64"
      ]
     },
     "execution_count": 49,
     "metadata": {},
     "output_type": "execute_result"
    }
   ],
   "source": [
    "loan1['inq_last_6mths'].value_counts()"
   ]
  },
  {
   "cell_type": "code",
   "execution_count": 50,
   "metadata": {},
   "outputs": [
    {
     "name": "stderr",
     "output_type": "stream",
     "text": [
      "C:\\Users\\sanjo\\Anaconda3\\lib\\site-packages\\ipykernel_launcher.py:4: FutureWarning: set_value is deprecated and will be removed in a future release. Please use .at[] or .iat[] accessors instead\n",
      "  after removing the cwd from sys.path.\n"
     ]
    }
   ],
   "source": [
    "loan1['inq_last_6mths_cat'] = int(0)\n",
    "for index, value in loan1['inq_last_6mths'].iteritems():\n",
    "    if value > 0:\n",
    "        loan1.set_value(index,'inq_last_6mths_cat',int(1))"
   ]
  },
  {
   "cell_type": "code",
   "execution_count": 51,
   "metadata": {},
   "outputs": [
    {
     "data": {
      "text/plain": [
       "1    138591\n",
       "0    130942\n",
       "Name: inq_last_6mths_cat, dtype: int64"
      ]
     },
     "execution_count": 51,
     "metadata": {},
     "output_type": "execute_result"
    }
   ],
   "source": [
    "loan1['inq_last_6mths_cat'].value_counts()"
   ]
  },
  {
   "cell_type": "code",
   "execution_count": 52,
   "metadata": {},
   "outputs": [],
   "source": [
    "loan1.drop(['inq_last_6mths'], axis=1, inplace=True)"
   ]
  },
  {
   "cell_type": "code",
   "execution_count": 53,
   "metadata": {},
   "outputs": [
    {
     "name": "stdout",
     "output_type": "stream",
     "text": [
      "<class 'pandas.core.frame.DataFrame'>\n",
      "Int64Index: 269533 entries, 0 to 269775\n",
      "Data columns (total 28 columns):\n",
      "id                     269533 non-null int64\n",
      "loan_amnt              269533 non-null float64\n",
      "term                   269533 non-null object\n",
      "int_rate               269533 non-null float64\n",
      "installment            269533 non-null float64\n",
      "grade                  269533 non-null object\n",
      "emp_length             269533 non-null float64\n",
      "home_ownership         269533 non-null object\n",
      "annual_inc             269533 non-null float64\n",
      "verification_status    269533 non-null object\n",
      "purpose                269533 non-null object\n",
      "dti                    269533 non-null float64\n",
      "open_acc               269533 non-null float64\n",
      "revol_bal              269533 non-null float64\n",
      "revol_util             269533 non-null float64\n",
      "total_acc              269533 non-null float64\n",
      "initial_list_status    269533 non-null object\n",
      "out_prncp              269533 non-null float64\n",
      "out_prncp_inv          269533 non-null float64\n",
      "total_pymnt            269533 non-null float64\n",
      "total_pymnt_inv        269533 non-null float64\n",
      "total_rec_prncp        269533 non-null float64\n",
      "total_rec_int          269533 non-null float64\n",
      "last_pymnt_amnt        269533 non-null float64\n",
      "tot_cur_bal            269533 non-null float64\n",
      "total_rev_hi_lim       269533 non-null float64\n",
      "Default_Binary         269533 non-null int64\n",
      "inq_last_6mths_cat     269533 non-null int64\n",
      "dtypes: float64(19), int64(3), object(6)\n",
      "memory usage: 69.6+ MB\n"
     ]
    }
   ],
   "source": [
    "loan1.info()"
   ]
  },
  {
   "cell_type": "code",
   "execution_count": 54,
   "metadata": {},
   "outputs": [],
   "source": [
    "loan1['grade'] = loan1['grade'].map({'A':6,'B':5,'C':4,'D':3,'E':2,'F':1,'G':0})\n",
    "loan1[\"home_ownership\"] = loan1[\"home_ownership\"].map({\"MORTGAGE\":5,\"RENT\":4,\"OWN\":3,\"OTHER\":2,\"NONE\":1,\"ANY\":0})\n",
    "loan1['purpose'] = loan1['purpose'].map({'debt_consolidation':13,'credit_card':12,'home_improvement':11,'other':10,\n",
    "                                         'major_purchase':9,'small_business':8,'car':7,'medical':6,'moving':5,\n",
    "                                         'vacation':4,'house':3,'wedding':2,'renewable_energy':1,'educational':0})\n",
    "\n",
    "loan1['initial_list_status'] = loan1['initial_list_status'].map({'f':0,'w':1})\n",
    "loan1['term'] = loan1['term'].map({'36':0, '60':1})\n",
    "loan1['verification_status'] = loan1['verification_status'].map({'Verified':0,'Not Verified':1})"
   ]
  },
  {
   "cell_type": "code",
   "execution_count": 55,
   "metadata": {},
   "outputs": [
    {
     "name": "stdout",
     "output_type": "stream",
     "text": [
      "<class 'pandas.core.frame.DataFrame'>\n",
      "Int64Index: 269533 entries, 0 to 269775\n",
      "Data columns (total 28 columns):\n",
      "id                     269533 non-null int64\n",
      "loan_amnt              269533 non-null float64\n",
      "term                   269533 non-null int64\n",
      "int_rate               269533 non-null float64\n",
      "installment            269533 non-null float64\n",
      "grade                  269533 non-null int64\n",
      "emp_length             269533 non-null float64\n",
      "home_ownership         269533 non-null int64\n",
      "annual_inc             269533 non-null float64\n",
      "verification_status    269533 non-null int64\n",
      "purpose                269533 non-null int64\n",
      "dti                    269533 non-null float64\n",
      "open_acc               269533 non-null float64\n",
      "revol_bal              269533 non-null float64\n",
      "revol_util             269533 non-null float64\n",
      "total_acc              269533 non-null float64\n",
      "initial_list_status    269533 non-null int64\n",
      "out_prncp              269533 non-null float64\n",
      "out_prncp_inv          269533 non-null float64\n",
      "total_pymnt            269533 non-null float64\n",
      "total_pymnt_inv        269533 non-null float64\n",
      "total_rec_prncp        269533 non-null float64\n",
      "total_rec_int          269533 non-null float64\n",
      "last_pymnt_amnt        269533 non-null float64\n",
      "tot_cur_bal            269533 non-null float64\n",
      "total_rev_hi_lim       269533 non-null float64\n",
      "Default_Binary         269533 non-null int64\n",
      "inq_last_6mths_cat     269533 non-null int64\n",
      "dtypes: float64(19), int64(9)\n",
      "memory usage: 69.6 MB\n"
     ]
    }
   ],
   "source": [
    "loan1.info()"
   ]
  },
  {
   "cell_type": "markdown",
   "metadata": {},
   "source": [
    "### Saving this data into a different csv file - 'Clean_loan.csv'"
   ]
  },
  {
   "cell_type": "code",
   "execution_count": 56,
   "metadata": {},
   "outputs": [],
   "source": [
    "loan1.to_csv('Cleaned_loan.csv', index = False)"
   ]
  },
  {
   "cell_type": "code",
   "execution_count": null,
   "metadata": {},
   "outputs": [],
   "source": []
  },
  {
   "cell_type": "code",
   "execution_count": null,
   "metadata": {},
   "outputs": [],
   "source": []
  }
 ],
 "metadata": {
  "kernelspec": {
   "display_name": "Python 3",
   "language": "python",
   "name": "python3"
  },
  "language_info": {
   "codemirror_mode": {
    "name": "ipython",
    "version": 3
   },
   "file_extension": ".py",
   "mimetype": "text/x-python",
   "name": "python",
   "nbconvert_exporter": "python",
   "pygments_lexer": "ipython3",
   "version": "3.6.4"
  }
 },
 "nbformat": 4,
 "nbformat_minor": 2
}
