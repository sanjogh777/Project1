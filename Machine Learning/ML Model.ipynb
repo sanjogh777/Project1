{
 "cells": [
  {
   "cell_type": "code",
   "execution_count": 1,
   "metadata": {},
   "outputs": [],
   "source": [
    "import pandas as pd\n",
    "import numpy as np\n",
    "import seaborn as sns\n",
    "from sklearn import preprocessing\n",
    "import matplotlib.pyplot as plt"
   ]
  },
  {
   "cell_type": "code",
   "execution_count": 2,
   "metadata": {},
   "outputs": [
    {
     "data": {
      "text/html": [
       "<div>\n",
       "<style scoped>\n",
       "    .dataframe tbody tr th:only-of-type {\n",
       "        vertical-align: middle;\n",
       "    }\n",
       "\n",
       "    .dataframe tbody tr th {\n",
       "        vertical-align: top;\n",
       "    }\n",
       "\n",
       "    .dataframe thead th {\n",
       "        text-align: right;\n",
       "    }\n",
       "</style>\n",
       "<table border=\"1\" class=\"dataframe\">\n",
       "  <thead>\n",
       "    <tr style=\"text-align: right;\">\n",
       "      <th></th>\n",
       "      <th>id</th>\n",
       "      <th>loan_amnt</th>\n",
       "      <th>funded_amnt</th>\n",
       "      <th>funded_amnt_inv</th>\n",
       "      <th>term</th>\n",
       "      <th>int_rate</th>\n",
       "      <th>installment</th>\n",
       "      <th>grade</th>\n",
       "      <th>emp_length</th>\n",
       "      <th>home_ownership</th>\n",
       "      <th>...</th>\n",
       "      <th>last_pymnt_amnt</th>\n",
       "      <th>tot_cur_bal</th>\n",
       "      <th>total_rev_hi_lim</th>\n",
       "      <th>Default_Binary</th>\n",
       "      <th>delinq_2yrs_cat</th>\n",
       "      <th>inq_last_6mths_cat</th>\n",
       "      <th>total_rec_late_fee_cat</th>\n",
       "      <th>recoveries_cat</th>\n",
       "      <th>collection_recovery_fee_cat</th>\n",
       "      <th>pub_rec_cat</th>\n",
       "    </tr>\n",
       "  </thead>\n",
       "  <tbody>\n",
       "    <tr>\n",
       "      <th>0</th>\n",
       "      <td>1077501</td>\n",
       "      <td>5000.0</td>\n",
       "      <td>5000.0</td>\n",
       "      <td>4975.0</td>\n",
       "      <td>36</td>\n",
       "      <td>0.1065</td>\n",
       "      <td>162.87</td>\n",
       "      <td>B</td>\n",
       "      <td>10.0</td>\n",
       "      <td>RENT</td>\n",
       "      <td>...</td>\n",
       "      <td>171.62</td>\n",
       "      <td>80559.0</td>\n",
       "      <td>23700.0</td>\n",
       "      <td>0</td>\n",
       "      <td>no</td>\n",
       "      <td>yes</td>\n",
       "      <td>no</td>\n",
       "      <td>no</td>\n",
       "      <td>no</td>\n",
       "      <td>no</td>\n",
       "    </tr>\n",
       "    <tr>\n",
       "      <th>1</th>\n",
       "      <td>1077430</td>\n",
       "      <td>2500.0</td>\n",
       "      <td>2500.0</td>\n",
       "      <td>2500.0</td>\n",
       "      <td>60</td>\n",
       "      <td>0.1527</td>\n",
       "      <td>59.83</td>\n",
       "      <td>C</td>\n",
       "      <td>1.0</td>\n",
       "      <td>RENT</td>\n",
       "      <td>...</td>\n",
       "      <td>119.66</td>\n",
       "      <td>80559.0</td>\n",
       "      <td>23700.0</td>\n",
       "      <td>1</td>\n",
       "      <td>no</td>\n",
       "      <td>yes</td>\n",
       "      <td>no</td>\n",
       "      <td>yes</td>\n",
       "      <td>yes</td>\n",
       "      <td>no</td>\n",
       "    </tr>\n",
       "    <tr>\n",
       "      <th>2</th>\n",
       "      <td>1077175</td>\n",
       "      <td>2400.0</td>\n",
       "      <td>2400.0</td>\n",
       "      <td>2400.0</td>\n",
       "      <td>36</td>\n",
       "      <td>0.1596</td>\n",
       "      <td>84.33</td>\n",
       "      <td>C</td>\n",
       "      <td>10.0</td>\n",
       "      <td>RENT</td>\n",
       "      <td>...</td>\n",
       "      <td>649.91</td>\n",
       "      <td>80559.0</td>\n",
       "      <td>23700.0</td>\n",
       "      <td>0</td>\n",
       "      <td>no</td>\n",
       "      <td>yes</td>\n",
       "      <td>no</td>\n",
       "      <td>no</td>\n",
       "      <td>no</td>\n",
       "      <td>no</td>\n",
       "    </tr>\n",
       "    <tr>\n",
       "      <th>3</th>\n",
       "      <td>1076863</td>\n",
       "      <td>10000.0</td>\n",
       "      <td>10000.0</td>\n",
       "      <td>10000.0</td>\n",
       "      <td>36</td>\n",
       "      <td>0.1349</td>\n",
       "      <td>339.31</td>\n",
       "      <td>C</td>\n",
       "      <td>10.0</td>\n",
       "      <td>RENT</td>\n",
       "      <td>...</td>\n",
       "      <td>357.48</td>\n",
       "      <td>80559.0</td>\n",
       "      <td>23700.0</td>\n",
       "      <td>0</td>\n",
       "      <td>no</td>\n",
       "      <td>yes</td>\n",
       "      <td>yes</td>\n",
       "      <td>no</td>\n",
       "      <td>no</td>\n",
       "      <td>no</td>\n",
       "    </tr>\n",
       "    <tr>\n",
       "      <th>4</th>\n",
       "      <td>1075358</td>\n",
       "      <td>3000.0</td>\n",
       "      <td>3000.0</td>\n",
       "      <td>3000.0</td>\n",
       "      <td>60</td>\n",
       "      <td>0.1269</td>\n",
       "      <td>67.79</td>\n",
       "      <td>B</td>\n",
       "      <td>1.0</td>\n",
       "      <td>RENT</td>\n",
       "      <td>...</td>\n",
       "      <td>67.79</td>\n",
       "      <td>80559.0</td>\n",
       "      <td>23700.0</td>\n",
       "      <td>0</td>\n",
       "      <td>no</td>\n",
       "      <td>no</td>\n",
       "      <td>no</td>\n",
       "      <td>no</td>\n",
       "      <td>no</td>\n",
       "      <td>no</td>\n",
       "    </tr>\n",
       "  </tbody>\n",
       "</table>\n",
       "<p>5 rows × 36 columns</p>\n",
       "</div>"
      ],
      "text/plain": [
       "        id  loan_amnt  funded_amnt  funded_amnt_inv  term  int_rate  \\\n",
       "0  1077501     5000.0       5000.0           4975.0    36    0.1065   \n",
       "1  1077430     2500.0       2500.0           2500.0    60    0.1527   \n",
       "2  1077175     2400.0       2400.0           2400.0    36    0.1596   \n",
       "3  1076863    10000.0      10000.0          10000.0    36    0.1349   \n",
       "4  1075358     3000.0       3000.0           3000.0    60    0.1269   \n",
       "\n",
       "   installment grade  emp_length home_ownership     ...      last_pymnt_amnt  \\\n",
       "0       162.87     B        10.0           RENT     ...               171.62   \n",
       "1        59.83     C         1.0           RENT     ...               119.66   \n",
       "2        84.33     C        10.0           RENT     ...               649.91   \n",
       "3       339.31     C        10.0           RENT     ...               357.48   \n",
       "4        67.79     B         1.0           RENT     ...                67.79   \n",
       "\n",
       "  tot_cur_bal total_rev_hi_lim Default_Binary  delinq_2yrs_cat  \\\n",
       "0     80559.0          23700.0              0               no   \n",
       "1     80559.0          23700.0              1               no   \n",
       "2     80559.0          23700.0              0               no   \n",
       "3     80559.0          23700.0              0               no   \n",
       "4     80559.0          23700.0              0               no   \n",
       "\n",
       "   inq_last_6mths_cat  total_rec_late_fee_cat  recoveries_cat  \\\n",
       "0                 yes                      no              no   \n",
       "1                 yes                      no             yes   \n",
       "2                 yes                      no              no   \n",
       "3                 yes                     yes              no   \n",
       "4                  no                      no              no   \n",
       "\n",
       "   collection_recovery_fee_cat pub_rec_cat  \n",
       "0                           no          no  \n",
       "1                          yes          no  \n",
       "2                           no          no  \n",
       "3                           no          no  \n",
       "4                           no          no  \n",
       "\n",
       "[5 rows x 36 columns]"
      ]
     },
     "execution_count": 2,
     "metadata": {},
     "output_type": "execute_result"
    }
   ],
   "source": [
    "loan4 = pd.read_csv('Cleaned_loan.csv')\n",
    "loan4.head()"
   ]
  },
  {
   "cell_type": "code",
   "execution_count": 3,
   "metadata": {},
   "outputs": [
    {
     "name": "stdout",
     "output_type": "stream",
     "text": [
      "<class 'pandas.core.frame.DataFrame'>\n",
      "RangeIndex: 842067 entries, 0 to 842066\n",
      "Data columns (total 36 columns):\n",
      "id                             842067 non-null int64\n",
      "loan_amnt                      842067 non-null float64\n",
      "funded_amnt                    842067 non-null float64\n",
      "funded_amnt_inv                842067 non-null float64\n",
      "term                           842067 non-null int64\n",
      "int_rate                       842067 non-null float64\n",
      "installment                    842067 non-null float64\n",
      "grade                          842067 non-null object\n",
      "emp_length                     842067 non-null float64\n",
      "home_ownership                 842067 non-null object\n",
      "annual_inc                     842067 non-null float64\n",
      "verification_status            842067 non-null object\n",
      "purpose                        842067 non-null object\n",
      "addr_state                     842067 non-null object\n",
      "dti                            842067 non-null float64\n",
      "open_acc                       842067 non-null float64\n",
      "revol_bal                      842067 non-null float64\n",
      "revol_util                     842067 non-null float64\n",
      "total_acc                      842067 non-null float64\n",
      "initial_list_status            842067 non-null object\n",
      "out_prncp                      842067 non-null float64\n",
      "out_prncp_inv                  842067 non-null float64\n",
      "total_pymnt                    842067 non-null float64\n",
      "total_pymnt_inv                842067 non-null float64\n",
      "total_rec_prncp                842067 non-null float64\n",
      "total_rec_int                  842067 non-null float64\n",
      "last_pymnt_amnt                842067 non-null float64\n",
      "tot_cur_bal                    842067 non-null float64\n",
      "total_rev_hi_lim               842067 non-null float64\n",
      "Default_Binary                 842067 non-null int64\n",
      "delinq_2yrs_cat                842067 non-null object\n",
      "inq_last_6mths_cat             842067 non-null object\n",
      "total_rec_late_fee_cat         842067 non-null object\n",
      "recoveries_cat                 842067 non-null object\n",
      "collection_recovery_fee_cat    842067 non-null object\n",
      "pub_rec_cat                    842067 non-null object\n",
      "dtypes: float64(21), int64(3), object(12)\n",
      "memory usage: 231.3+ MB\n"
     ]
    }
   ],
   "source": [
    "loan4.info()"
   ]
  },
  {
   "cell_type": "markdown",
   "metadata": {},
   "source": [
    "* We can see the column 'term' is an int. We need to convert it into a string and make it categorical as it has just 2 values - 36 and 60.*"
   ]
  },
  {
   "cell_type": "code",
   "execution_count": 4,
   "metadata": {},
   "outputs": [],
   "source": [
    "loan4['term'] = loan4['term'].apply(str)"
   ]
  },
  {
   "cell_type": "markdown",
   "metadata": {},
   "source": [
    "* Dropping the 'addr_state' column as it's not a significant feature."
   ]
  },
  {
   "cell_type": "code",
   "execution_count": 5,
   "metadata": {},
   "outputs": [],
   "source": [
    "loan4.drop('addr_state', axis = 1, inplace = True)"
   ]
  },
  {
   "cell_type": "code",
   "execution_count": 7,
   "metadata": {},
   "outputs": [
    {
     "name": "stdout",
     "output_type": "stream",
     "text": [
      "<class 'pandas.core.frame.DataFrame'>\n",
      "RangeIndex: 842067 entries, 0 to 842066\n",
      "Data columns (total 35 columns):\n",
      "id                             842067 non-null int64\n",
      "loan_amnt                      842067 non-null float64\n",
      "funded_amnt                    842067 non-null float64\n",
      "funded_amnt_inv                842067 non-null float64\n",
      "term                           842067 non-null object\n",
      "int_rate                       842067 non-null float64\n",
      "installment                    842067 non-null float64\n",
      "grade                          842067 non-null object\n",
      "emp_length                     842067 non-null float64\n",
      "home_ownership                 842067 non-null object\n",
      "annual_inc                     842067 non-null float64\n",
      "verification_status            842067 non-null object\n",
      "purpose                        842067 non-null object\n",
      "dti                            842067 non-null float64\n",
      "open_acc                       842067 non-null float64\n",
      "revol_bal                      842067 non-null float64\n",
      "revol_util                     842067 non-null float64\n",
      "total_acc                      842067 non-null float64\n",
      "initial_list_status            842067 non-null object\n",
      "out_prncp                      842067 non-null float64\n",
      "out_prncp_inv                  842067 non-null float64\n",
      "total_pymnt                    842067 non-null float64\n",
      "total_pymnt_inv                842067 non-null float64\n",
      "total_rec_prncp                842067 non-null float64\n",
      "total_rec_int                  842067 non-null float64\n",
      "last_pymnt_amnt                842067 non-null float64\n",
      "tot_cur_bal                    842067 non-null float64\n",
      "total_rev_hi_lim               842067 non-null float64\n",
      "Default_Binary                 842067 non-null int64\n",
      "delinq_2yrs_cat                842067 non-null object\n",
      "inq_last_6mths_cat             842067 non-null object\n",
      "total_rec_late_fee_cat         842067 non-null object\n",
      "recoveries_cat                 842067 non-null object\n",
      "collection_recovery_fee_cat    842067 non-null object\n",
      "pub_rec_cat                    842067 non-null object\n",
      "dtypes: float64(21), int64(2), object(12)\n",
      "memory usage: 224.9+ MB\n"
     ]
    }
   ],
   "source": [
    "loan4.info()"
   ]
  },
  {
   "cell_type": "code",
   "execution_count": null,
   "metadata": {},
   "outputs": [],
   "source": []
  },
  {
   "cell_type": "code",
   "execution_count": null,
   "metadata": {},
   "outputs": [],
   "source": []
  },
  {
   "cell_type": "markdown",
   "metadata": {},
   "source": [
    "### We have to scale the columns with 'float' data type to give better accuracy. "
   ]
  },
  {
   "cell_type": "code",
   "execution_count": 8,
   "metadata": {},
   "outputs": [],
   "source": [
    "from sklearn.preprocessing import MinMaxScaler"
   ]
  },
  {
   "cell_type": "code",
   "execution_count": 9,
   "metadata": {},
   "outputs": [
    {
     "data": {
      "text/html": [
       "<div>\n",
       "<style scoped>\n",
       "    .dataframe tbody tr th:only-of-type {\n",
       "        vertical-align: middle;\n",
       "    }\n",
       "\n",
       "    .dataframe tbody tr th {\n",
       "        vertical-align: top;\n",
       "    }\n",
       "\n",
       "    .dataframe thead th {\n",
       "        text-align: right;\n",
       "    }\n",
       "</style>\n",
       "<table border=\"1\" class=\"dataframe\">\n",
       "  <thead>\n",
       "    <tr style=\"text-align: right;\">\n",
       "      <th></th>\n",
       "      <th>id</th>\n",
       "      <th>loan_amnt</th>\n",
       "      <th>funded_amnt</th>\n",
       "      <th>funded_amnt_inv</th>\n",
       "      <th>term</th>\n",
       "      <th>int_rate</th>\n",
       "      <th>installment</th>\n",
       "      <th>grade</th>\n",
       "      <th>emp_length</th>\n",
       "      <th>home_ownership</th>\n",
       "      <th>...</th>\n",
       "      <th>last_pymnt_amnt</th>\n",
       "      <th>tot_cur_bal</th>\n",
       "      <th>total_rev_hi_lim</th>\n",
       "      <th>Default_Binary</th>\n",
       "      <th>delinq_2yrs_cat</th>\n",
       "      <th>inq_last_6mths_cat</th>\n",
       "      <th>total_rec_late_fee_cat</th>\n",
       "      <th>recoveries_cat</th>\n",
       "      <th>collection_recovery_fee_cat</th>\n",
       "      <th>pub_rec_cat</th>\n",
       "    </tr>\n",
       "  </thead>\n",
       "  <tbody>\n",
       "    <tr>\n",
       "      <th>0</th>\n",
       "      <td>1077501</td>\n",
       "      <td>0.130435</td>\n",
       "      <td>0.130435</td>\n",
       "      <td>0.142143</td>\n",
       "      <td>36</td>\n",
       "      <td>0.225180</td>\n",
       "      <td>0.102952</td>\n",
       "      <td>B</td>\n",
       "      <td>1.0</td>\n",
       "      <td>RENT</td>\n",
       "      <td>...</td>\n",
       "      <td>0.004705</td>\n",
       "      <td>0.01007</td>\n",
       "      <td>0.00237</td>\n",
       "      <td>0</td>\n",
       "      <td>no</td>\n",
       "      <td>yes</td>\n",
       "      <td>no</td>\n",
       "      <td>no</td>\n",
       "      <td>no</td>\n",
       "      <td>no</td>\n",
       "    </tr>\n",
       "    <tr>\n",
       "      <th>1</th>\n",
       "      <td>1077430</td>\n",
       "      <td>0.057971</td>\n",
       "      <td>0.057971</td>\n",
       "      <td>0.071429</td>\n",
       "      <td>60</td>\n",
       "      <td>0.420363</td>\n",
       "      <td>0.030886</td>\n",
       "      <td>C</td>\n",
       "      <td>0.0</td>\n",
       "      <td>RENT</td>\n",
       "      <td>...</td>\n",
       "      <td>0.003281</td>\n",
       "      <td>0.01007</td>\n",
       "      <td>0.00237</td>\n",
       "      <td>1</td>\n",
       "      <td>no</td>\n",
       "      <td>yes</td>\n",
       "      <td>no</td>\n",
       "      <td>yes</td>\n",
       "      <td>yes</td>\n",
       "      <td>no</td>\n",
       "    </tr>\n",
       "    <tr>\n",
       "      <th>2</th>\n",
       "      <td>1077175</td>\n",
       "      <td>0.055072</td>\n",
       "      <td>0.055072</td>\n",
       "      <td>0.068571</td>\n",
       "      <td>36</td>\n",
       "      <td>0.449514</td>\n",
       "      <td>0.048021</td>\n",
       "      <td>C</td>\n",
       "      <td>1.0</td>\n",
       "      <td>RENT</td>\n",
       "      <td>...</td>\n",
       "      <td>0.017818</td>\n",
       "      <td>0.01007</td>\n",
       "      <td>0.00237</td>\n",
       "      <td>0</td>\n",
       "      <td>no</td>\n",
       "      <td>yes</td>\n",
       "      <td>no</td>\n",
       "      <td>no</td>\n",
       "      <td>no</td>\n",
       "      <td>no</td>\n",
       "    </tr>\n",
       "    <tr>\n",
       "      <th>3</th>\n",
       "      <td>1076863</td>\n",
       "      <td>0.275362</td>\n",
       "      <td>0.275362</td>\n",
       "      <td>0.285714</td>\n",
       "      <td>36</td>\n",
       "      <td>0.345163</td>\n",
       "      <td>0.226355</td>\n",
       "      <td>C</td>\n",
       "      <td>1.0</td>\n",
       "      <td>RENT</td>\n",
       "      <td>...</td>\n",
       "      <td>0.009801</td>\n",
       "      <td>0.01007</td>\n",
       "      <td>0.00237</td>\n",
       "      <td>0</td>\n",
       "      <td>no</td>\n",
       "      <td>yes</td>\n",
       "      <td>yes</td>\n",
       "      <td>no</td>\n",
       "      <td>no</td>\n",
       "      <td>no</td>\n",
       "    </tr>\n",
       "    <tr>\n",
       "      <th>4</th>\n",
       "      <td>1075358</td>\n",
       "      <td>0.072464</td>\n",
       "      <td>0.072464</td>\n",
       "      <td>0.085714</td>\n",
       "      <td>60</td>\n",
       "      <td>0.311365</td>\n",
       "      <td>0.036453</td>\n",
       "      <td>B</td>\n",
       "      <td>0.0</td>\n",
       "      <td>RENT</td>\n",
       "      <td>...</td>\n",
       "      <td>0.001859</td>\n",
       "      <td>0.01007</td>\n",
       "      <td>0.00237</td>\n",
       "      <td>0</td>\n",
       "      <td>no</td>\n",
       "      <td>no</td>\n",
       "      <td>no</td>\n",
       "      <td>no</td>\n",
       "      <td>no</td>\n",
       "      <td>no</td>\n",
       "    </tr>\n",
       "  </tbody>\n",
       "</table>\n",
       "<p>5 rows × 35 columns</p>\n",
       "</div>"
      ],
      "text/plain": [
       "        id  loan_amnt  funded_amnt  funded_amnt_inv term  int_rate  \\\n",
       "0  1077501   0.130435     0.130435         0.142143   36  0.225180   \n",
       "1  1077430   0.057971     0.057971         0.071429   60  0.420363   \n",
       "2  1077175   0.055072     0.055072         0.068571   36  0.449514   \n",
       "3  1076863   0.275362     0.275362         0.285714   36  0.345163   \n",
       "4  1075358   0.072464     0.072464         0.085714   60  0.311365   \n",
       "\n",
       "   installment grade  emp_length home_ownership     ...       last_pymnt_amnt  \\\n",
       "0     0.102952     B         1.0           RENT     ...              0.004705   \n",
       "1     0.030886     C         0.0           RENT     ...              0.003281   \n",
       "2     0.048021     C         1.0           RENT     ...              0.017818   \n",
       "3     0.226355     C         1.0           RENT     ...              0.009801   \n",
       "4     0.036453     B         0.0           RENT     ...              0.001859   \n",
       "\n",
       "  tot_cur_bal total_rev_hi_lim  Default_Binary  delinq_2yrs_cat  \\\n",
       "0     0.01007          0.00237               0               no   \n",
       "1     0.01007          0.00237               1               no   \n",
       "2     0.01007          0.00237               0               no   \n",
       "3     0.01007          0.00237               0               no   \n",
       "4     0.01007          0.00237               0               no   \n",
       "\n",
       "   inq_last_6mths_cat  total_rec_late_fee_cat  recoveries_cat  \\\n",
       "0                 yes                      no              no   \n",
       "1                 yes                      no             yes   \n",
       "2                 yes                      no              no   \n",
       "3                 yes                     yes              no   \n",
       "4                  no                      no              no   \n",
       "\n",
       "  collection_recovery_fee_cat  pub_rec_cat  \n",
       "0                          no           no  \n",
       "1                         yes           no  \n",
       "2                          no           no  \n",
       "3                          no           no  \n",
       "4                          no           no  \n",
       "\n",
       "[5 rows x 35 columns]"
      ]
     },
     "execution_count": 9,
     "metadata": {},
     "output_type": "execute_result"
    }
   ],
   "source": [
    "scaler = MinMaxScaler()\n",
    "transform = ['loan_amnt','funded_amnt','funded_amnt_inv','int_rate','installment','emp_length','annual_inc','dti','open_acc','revol_bal','revol_util','total_acc','out_prncp','out_prncp_inv','total_pymnt','total_pymnt_inv','total_rec_prncp','total_rec_int','last_pymnt_amnt','tot_cur_bal','total_rev_hi_lim']\n",
    "loan4[transform] = scaler.fit_transform(loan4[transform])\n",
    "loan4.head()"
   ]
  },
  {
   "cell_type": "markdown",
   "metadata": {},
   "source": [
    "* We can see that we have scaled the values of the columns to be between 0 and 1."
   ]
  },
  {
   "cell_type": "markdown",
   "metadata": {},
   "source": [
    "### Creating dummy variables from the 'object' data types."
   ]
  },
  {
   "cell_type": "code",
   "execution_count": 10,
   "metadata": {},
   "outputs": [
    {
     "name": "stdout",
     "output_type": "stream",
     "text": [
      "<class 'pandas.core.frame.DataFrame'>\n",
      "RangeIndex: 842067 entries, 0 to 842066\n",
      "Data columns (total 68 columns):\n",
      "id                                  842067 non-null int64\n",
      "loan_amnt                           842067 non-null float64\n",
      "funded_amnt                         842067 non-null float64\n",
      "funded_amnt_inv                     842067 non-null float64\n",
      "int_rate                            842067 non-null float64\n",
      "installment                         842067 non-null float64\n",
      "emp_length                          842067 non-null float64\n",
      "annual_inc                          842067 non-null float64\n",
      "dti                                 842067 non-null float64\n",
      "open_acc                            842067 non-null float64\n",
      "revol_bal                           842067 non-null float64\n",
      "revol_util                          842067 non-null float64\n",
      "total_acc                           842067 non-null float64\n",
      "out_prncp                           842067 non-null float64\n",
      "out_prncp_inv                       842067 non-null float64\n",
      "total_pymnt                         842067 non-null float64\n",
      "total_pymnt_inv                     842067 non-null float64\n",
      "total_rec_prncp                     842067 non-null float64\n",
      "total_rec_int                       842067 non-null float64\n",
      "last_pymnt_amnt                     842067 non-null float64\n",
      "tot_cur_bal                         842067 non-null float64\n",
      "total_rev_hi_lim                    842067 non-null float64\n",
      "Default_Binary                      842067 non-null int64\n",
      "term_36                             842067 non-null uint8\n",
      "term_60                             842067 non-null uint8\n",
      "grade_A                             842067 non-null uint8\n",
      "grade_B                             842067 non-null uint8\n",
      "grade_C                             842067 non-null uint8\n",
      "grade_D                             842067 non-null uint8\n",
      "grade_E                             842067 non-null uint8\n",
      "grade_F                             842067 non-null uint8\n",
      "grade_G                             842067 non-null uint8\n",
      "home_ownership_ANY                  842067 non-null uint8\n",
      "home_ownership_MORTGAGE             842067 non-null uint8\n",
      "home_ownership_NONE                 842067 non-null uint8\n",
      "home_ownership_OTHER                842067 non-null uint8\n",
      "home_ownership_OWN                  842067 non-null uint8\n",
      "home_ownership_RENT                 842067 non-null uint8\n",
      "verification_status_Not Verified    842067 non-null uint8\n",
      "verification_status_Verified        842067 non-null uint8\n",
      "purpose_car                         842067 non-null uint8\n",
      "purpose_credit_card                 842067 non-null uint8\n",
      "purpose_debt_consolidation          842067 non-null uint8\n",
      "purpose_educational                 842067 non-null uint8\n",
      "purpose_home_improvement            842067 non-null uint8\n",
      "purpose_house                       842067 non-null uint8\n",
      "purpose_major_purchase              842067 non-null uint8\n",
      "purpose_medical                     842067 non-null uint8\n",
      "purpose_moving                      842067 non-null uint8\n",
      "purpose_other                       842067 non-null uint8\n",
      "purpose_renewable_energy            842067 non-null uint8\n",
      "purpose_small_business              842067 non-null uint8\n",
      "purpose_vacation                    842067 non-null uint8\n",
      "purpose_wedding                     842067 non-null uint8\n",
      "initial_list_status_f               842067 non-null uint8\n",
      "initial_list_status_w               842067 non-null uint8\n",
      "delinq_2yrs_cat_no                  842067 non-null uint8\n",
      "delinq_2yrs_cat_yes                 842067 non-null uint8\n",
      "inq_last_6mths_cat_no               842067 non-null uint8\n",
      "inq_last_6mths_cat_yes              842067 non-null uint8\n",
      "total_rec_late_fee_cat_no           842067 non-null uint8\n",
      "total_rec_late_fee_cat_yes          842067 non-null uint8\n",
      "recoveries_cat_no                   842067 non-null uint8\n",
      "recoveries_cat_yes                  842067 non-null uint8\n",
      "collection_recovery_fee_cat_no      842067 non-null uint8\n",
      "collection_recovery_fee_cat_yes     842067 non-null uint8\n",
      "pub_rec_cat_no                      842067 non-null uint8\n",
      "pub_rec_cat_yes                     842067 non-null uint8\n",
      "dtypes: float64(21), int64(2), uint8(45)\n",
      "memory usage: 183.9 MB\n"
     ]
    }
   ],
   "source": [
    "features = ['term','grade','home_ownership','verification_status','purpose','initial_list_status','delinq_2yrs_cat','inq_last_6mths_cat','total_rec_late_fee_cat','recoveries_cat','collection_recovery_fee_cat','pub_rec_cat']\n",
    "loan4 = pd.get_dummies(loan4, columns = features)\n",
    "loan4.info()"
   ]
  },
  {
   "cell_type": "markdown",
   "metadata": {},
   "source": [
    "### Separating the 'id' column so that it doesn't get included while modeling.'"
   ]
  },
  {
   "cell_type": "code",
   "execution_count": 11,
   "metadata": {},
   "outputs": [],
   "source": [
    "users = loan4['id']"
   ]
  },
  {
   "cell_type": "code",
   "execution_count": 12,
   "metadata": {},
   "outputs": [],
   "source": [
    "loan4.drop('id', axis = 1, inplace = True)"
   ]
  },
  {
   "cell_type": "markdown",
   "metadata": {},
   "source": [
    "### Separating target column 'Default_Binary' from the rest of the data. The target variable is put in variable y."
   ]
  },
  {
   "cell_type": "code",
   "execution_count": 13,
   "metadata": {},
   "outputs": [],
   "source": [
    "from sklearn.model_selection import train_test_split\n",
    "from sklearn.linear_model import LogisticRegression"
   ]
  },
  {
   "cell_type": "code",
   "execution_count": 14,
   "metadata": {},
   "outputs": [],
   "source": [
    "X = loan4.loc[:, loan4.columns != 'Default_Binary']\n",
    "y = loan4.loc[:, loan4.columns == 'Default_Binary']\n"
   ]
  },
  {
   "cell_type": "code",
   "execution_count": 17,
   "metadata": {},
   "outputs": [
    {
     "data": {
      "text/plain": [
       "0    778411\n",
       "1     63656\n",
       "Name: Default_Binary, dtype: int64"
      ]
     },
     "execution_count": 17,
     "metadata": {},
     "output_type": "execute_result"
    }
   ],
   "source": [
    "y['Default_Binary'].value_counts()"
   ]
  },
  {
   "cell_type": "markdown",
   "metadata": {},
   "source": [
    "* We can see that the distribution of samples in both the loan defaulters (1) and non- defaulters (0) to be very disproportionate. Hence we are going to oversample the dataset using SMOTE library."
   ]
  },
  {
   "cell_type": "markdown",
   "metadata": {},
   "source": [
    "### Splitting the data into 70% training set and 30% test set ."
   ]
  },
  {
   "cell_type": "code",
   "execution_count": 18,
   "metadata": {},
   "outputs": [],
   "source": [
    "X_train, X_test, y_train, y_test = train_test_split(X, y, test_size=0.3, random_state=0)"
   ]
  },
  {
   "cell_type": "code",
   "execution_count": 19,
   "metadata": {},
   "outputs": [],
   "source": [
    "from imblearn.over_sampling import SMOTE"
   ]
  },
  {
   "cell_type": "code",
   "execution_count": 20,
   "metadata": {},
   "outputs": [
    {
     "name": "stdout",
     "output_type": "stream",
     "text": [
      "Number transactions X_train dataset:  (589446, 66)\n",
      "Number transactions y_train dataset:  (589446, 1)\n",
      "Number transactions X_test dataset:  (252621, 66)\n",
      "Number transactions y_test dataset:  (252621, 1)\n"
     ]
    }
   ],
   "source": [
    "print(\"Number transactions X_train dataset: \", X_train.shape)\n",
    "print(\"Number transactions y_train dataset: \", y_train.shape)\n",
    "print(\"Number transactions X_test dataset: \", X_test.shape)\n",
    "print(\"Number transactions y_test dataset: \", y_test.shape)"
   ]
  },
  {
   "cell_type": "markdown",
   "metadata": {},
   "source": [
    "* We can see that the total observations in the training set are 589,446. "
   ]
  },
  {
   "cell_type": "code",
   "execution_count": 21,
   "metadata": {},
   "outputs": [],
   "source": [
    "sm = SMOTE(random_state=0)"
   ]
  },
  {
   "cell_type": "code",
   "execution_count": 22,
   "metadata": {},
   "outputs": [],
   "source": [
    "columns_x = X_train.columns\n",
    "columns_y = y_train.columns\n",
    "sm_X,sm_y = sm.fit_sample(X_train, y_train.values.ravel())\n",
    "        "
   ]
  },
  {
   "cell_type": "code",
   "execution_count": 23,
   "metadata": {},
   "outputs": [],
   "source": [
    "sm_X = pd.DataFrame(data=sm_X,columns=columns_x)\n",
    "sm_y = pd.DataFrame(data=sm_y,columns=columns_y)"
   ]
  },
  {
   "cell_type": "code",
   "execution_count": 24,
   "metadata": {},
   "outputs": [
    {
     "name": "stdout",
     "output_type": "stream",
     "text": [
      "length of oversampled data is  1089672\n",
      "Number of defaulters 544836\n",
      "Number of non-defaulters 544836\n"
     ]
    }
   ],
   "source": [
    "print(\"length of oversampled data is \",len(sm_X))\n",
    "print(\"Number of defaulters\",len(sm_y[sm_y['Default_Binary']==1]))\n",
    "print(\"Number of non-defaulters\",len(sm_y[sm_y['Default_Binary']==0]))\n"
   ]
  },
  {
   "cell_type": "markdown",
   "metadata": {},
   "source": [
    "* We can see that the total observations have increased from 589,446 to 1,089,672.\n",
    "* Also the distribution of defaulters and non-defaulters are even now."
   ]
  },
  {
   "cell_type": "markdown",
   "metadata": {},
   "source": [
    "### Fitting the data into Machine Learning Model."
   ]
  },
  {
   "cell_type": "code",
   "execution_count": 25,
   "metadata": {},
   "outputs": [
    {
     "data": {
      "text/plain": [
       "LogisticRegression(C=1.0, class_weight='balanced', dual=False,\n",
       "          fit_intercept=True, intercept_scaling=1, max_iter=100,\n",
       "          multi_class='warn', n_jobs=None, penalty='l2', random_state=None,\n",
       "          solver='sag', tol=0.0001, verbose=0, warm_start=False)"
      ]
     },
     "execution_count": 25,
     "metadata": {},
     "output_type": "execute_result"
    }
   ],
   "source": [
    "logreg = LogisticRegression(class_weight = 'balanced', solver = 'sag')\n",
    "\n",
    "logreg.fit(sm_X,sm_y.values.ravel())"
   ]
  },
  {
   "cell_type": "code",
   "execution_count": 26,
   "metadata": {},
   "outputs": [],
   "source": [
    "y_pred = logreg.predict(X_test)"
   ]
  },
  {
   "cell_type": "markdown",
   "metadata": {},
   "source": [
    "### Testing the accuracy of the model using Confusion matrix and ROC Curve."
   ]
  },
  {
   "cell_type": "code",
   "execution_count": 30,
   "metadata": {},
   "outputs": [
    {
     "name": "stdout",
     "output_type": "stream",
     "text": [
      "Accuracy of logistic regression classifier on test set: 0.96\n"
     ]
    },
    {
     "data": {
      "text/plain": [
       "array([[227659,   5916],\n",
       "       [  5051,  13995]], dtype=int64)"
      ]
     },
     "execution_count": 30,
     "metadata": {},
     "output_type": "execute_result"
    }
   ],
   "source": [
    "from sklearn import metrics \n",
    "from sklearn.metrics import classification_report\n",
    "from sklearn.metrics import confusion_matrix\n",
    "\n",
    "confusion_matrix = confusion_matrix(y_test, y_pred)\n",
    "print('Accuracy of logistic regression classifier on test set: {:.2f}'.format(logreg.score(X_test, y_test)))\n",
    "confusion_matrix"
   ]
  },
  {
   "cell_type": "markdown",
   "metadata": {},
   "source": [
    "* We can see that total correct predictions = 227659+13995 = 241654, compared to total false predictions = 5916+5051 = 10967."
   ]
  },
  {
   "cell_type": "code",
   "execution_count": 28,
   "metadata": {},
   "outputs": [
    {
     "name": "stdout",
     "output_type": "stream",
     "text": [
      "              precision    recall  f1-score   support\n",
      "\n",
      "           0       0.98      0.97      0.98    233575\n",
      "           1       0.70      0.73      0.72     19046\n",
      "\n",
      "   micro avg       0.96      0.96      0.96    252621\n",
      "   macro avg       0.84      0.85      0.85    252621\n",
      "weighted avg       0.96      0.96      0.96    252621\n",
      "\n"
     ]
    }
   ],
   "source": [
    "print(classification_report(y_test, y_pred))"
   ]
  },
  {
   "cell_type": "markdown",
   "metadata": {},
   "source": [
    "* We can see that the model is 98% accurate on predicting the 'non-defaulters' but 70% accurate on detecting 'loan defaulters'. "
   ]
  },
  {
   "cell_type": "code",
   "execution_count": 29,
   "metadata": {},
   "outputs": [
    {
     "data": {
      "image/png": "[encoded data removed]",
      "text/plain": [
       "<Figure size 432x288 with 1 Axes>"
      ]
     },
     "metadata": {},
     "output_type": "display_data"
    }
   ],
   "source": [
    "from sklearn.metrics import roc_auc_score\n",
    "from sklearn.metrics import roc_curve\n",
    "\n",
    "logit_roc_auc = roc_auc_score(y_test, logreg.predict(X_test))\n",
    "fpr, tpr, thresholds = roc_curve(y_test, logreg.predict_proba(X_test)[:,1])\n",
    "plt.figure()\n",
    "plt.plot(fpr, tpr, label='Logistic Regression (area = %0.2f)' % logit_roc_auc)\n",
    "plt.plot([0, 1], [0, 1],'r--')\n",
    "plt.xlim([0.0, 1.0])\n",
    "plt.ylim([0.0, 1.05])\n",
    "plt.xlabel('False Positive Rate')\n",
    "plt.ylabel('True Positive Rate')\n",
    "plt.title('Receiver operating characteristic')\n",
    "plt.legend(loc=\"lower right\")\n",
    "plt.savefig('Log_ROC')\n",
    "plt.show()"
   ]
  },
  {
   "cell_type": "markdown",
   "metadata": {},
   "source": [
    "### Following are some test results:"
   ]
  },
  {
   "cell_type": "code",
   "execution_count": 36,
   "metadata": {},
   "outputs": [
    {
     "data": {
      "text/html": [
       "<div>\n",
       "<style scoped>\n",
       "    .dataframe tbody tr th:only-of-type {\n",
       "        vertical-align: middle;\n",
       "    }\n",
       "\n",
       "    .dataframe tbody tr th {\n",
       "        vertical-align: top;\n",
       "    }\n",
       "\n",
       "    .dataframe thead th {\n",
       "        text-align: right;\n",
       "    }\n",
       "</style>\n",
       "<table border=\"1\" class=\"dataframe\">\n",
       "  <thead>\n",
       "    <tr style=\"text-align: right;\">\n",
       "      <th></th>\n",
       "      <th>id</th>\n",
       "      <th>Default_Binary</th>\n",
       "      <th>Predictions</th>\n",
       "    </tr>\n",
       "  </thead>\n",
       "  <tbody>\n",
       "    <tr>\n",
       "      <th>5</th>\n",
       "      <td>1075269</td>\n",
       "      <td>0.0</td>\n",
       "      <td>0</td>\n",
       "    </tr>\n",
       "    <tr>\n",
       "      <th>6</th>\n",
       "      <td>1069639</td>\n",
       "      <td>0.0</td>\n",
       "      <td>0</td>\n",
       "    </tr>\n",
       "    <tr>\n",
       "      <th>7</th>\n",
       "      <td>1072053</td>\n",
       "      <td>0.0</td>\n",
       "      <td>0</td>\n",
       "    </tr>\n",
       "    <tr>\n",
       "      <th>13</th>\n",
       "      <td>1069866</td>\n",
       "      <td>0.0</td>\n",
       "      <td>0</td>\n",
       "    </tr>\n",
       "    <tr>\n",
       "      <th>19</th>\n",
       "      <td>1069742</td>\n",
       "      <td>0.0</td>\n",
       "      <td>0</td>\n",
       "    </tr>\n",
       "    <tr>\n",
       "      <th>31</th>\n",
       "      <td>1069539</td>\n",
       "      <td>0.0</td>\n",
       "      <td>0</td>\n",
       "    </tr>\n",
       "    <tr>\n",
       "      <th>36</th>\n",
       "      <td>1069361</td>\n",
       "      <td>0.0</td>\n",
       "      <td>0</td>\n",
       "    </tr>\n",
       "    <tr>\n",
       "      <th>37</th>\n",
       "      <td>1069357</td>\n",
       "      <td>0.0</td>\n",
       "      <td>0</td>\n",
       "    </tr>\n",
       "    <tr>\n",
       "      <th>45</th>\n",
       "      <td>1051117</td>\n",
       "      <td>0.0</td>\n",
       "      <td>0</td>\n",
       "    </tr>\n",
       "    <tr>\n",
       "      <th>46</th>\n",
       "      <td>1069465</td>\n",
       "      <td>1.0</td>\n",
       "      <td>1</td>\n",
       "    </tr>\n",
       "    <tr>\n",
       "      <th>47</th>\n",
       "      <td>1069283</td>\n",
       "      <td>0.0</td>\n",
       "      <td>0</td>\n",
       "    </tr>\n",
       "    <tr>\n",
       "      <th>51</th>\n",
       "      <td>1068120</td>\n",
       "      <td>0.0</td>\n",
       "      <td>0</td>\n",
       "    </tr>\n",
       "    <tr>\n",
       "      <th>53</th>\n",
       "      <td>1069243</td>\n",
       "      <td>1.0</td>\n",
       "      <td>1</td>\n",
       "    </tr>\n",
       "    <tr>\n",
       "      <th>56</th>\n",
       "      <td>1068409</td>\n",
       "      <td>0.0</td>\n",
       "      <td>0</td>\n",
       "    </tr>\n",
       "    <tr>\n",
       "      <th>57</th>\n",
       "      <td>1068487</td>\n",
       "      <td>0.0</td>\n",
       "      <td>0</td>\n",
       "    </tr>\n",
       "    <tr>\n",
       "      <th>59</th>\n",
       "      <td>1068945</td>\n",
       "      <td>0.0</td>\n",
       "      <td>0</td>\n",
       "    </tr>\n",
       "    <tr>\n",
       "      <th>60</th>\n",
       "      <td>1069142</td>\n",
       "      <td>0.0</td>\n",
       "      <td>0</td>\n",
       "    </tr>\n",
       "    <tr>\n",
       "      <th>61</th>\n",
       "      <td>1068934</td>\n",
       "      <td>0.0</td>\n",
       "      <td>0</td>\n",
       "    </tr>\n",
       "    <tr>\n",
       "      <th>63</th>\n",
       "      <td>1068923</td>\n",
       "      <td>0.0</td>\n",
       "      <td>0</td>\n",
       "    </tr>\n",
       "    <tr>\n",
       "      <th>70</th>\n",
       "      <td>1069043</td>\n",
       "      <td>0.0</td>\n",
       "      <td>0</td>\n",
       "    </tr>\n",
       "  </tbody>\n",
       "</table>\n",
       "</div>"
      ],
      "text/plain": [
       "         id  Default_Binary  Predictions\n",
       "5   1075269             0.0            0\n",
       "6   1069639             0.0            0\n",
       "7   1072053             0.0            0\n",
       "13  1069866             0.0            0\n",
       "19  1069742             0.0            0\n",
       "31  1069539             0.0            0\n",
       "36  1069361             0.0            0\n",
       "37  1069357             0.0            0\n",
       "45  1051117             0.0            0\n",
       "46  1069465             1.0            1\n",
       "47  1069283             0.0            0\n",
       "51  1068120             0.0            0\n",
       "53  1069243             1.0            1\n",
       "56  1068409             0.0            0\n",
       "57  1068487             0.0            0\n",
       "59  1068945             0.0            0\n",
       "60  1069142             0.0            0\n",
       "61  1068934             0.0            0\n",
       "63  1068923             0.0            0\n",
       "70  1069043             0.0            0"
      ]
     },
     "execution_count": 36,
     "metadata": {},
     "output_type": "execute_result"
    }
   ],
   "source": [
    "final_results = pd.concat([y_test, users], axis = 1).dropna()\n",
    "final_results['Predictions'] = y_pred\n",
    "final_results = final_results[['id','Default_Binary','Predictions']]\n",
    "final_results.head(20)"
   ]
  },
  {
   "cell_type": "markdown",
   "metadata": {},
   "source": [
    "* As we can see this model predicts pretty well."
   ]
  },
  {
   "cell_type": "code",
   "execution_count": null,
   "metadata": {},
   "outputs": [],
   "source": []
  },
  {
   "cell_type": "code",
   "execution_count": null,
   "metadata": {},
   "outputs": [],
   "source": []
  },
  {
   "cell_type": "code",
   "execution_count": null,
   "metadata": {},
   "outputs": [],
   "source": []
  },
  {
   "cell_type": "code",
   "execution_count": null,
   "metadata": {},
   "outputs": [],
   "source": []
  },
  {
   "cell_type": "code",
   "execution_count": 41,
   "metadata": {},
   "outputs": [
    {
     "ename": "ValueError",
     "evalue": "endog must be in the unit interval.",
     "output_type": "error",
     "traceback": [
      "\u001b[1;31m---------------------------------------------------------------------------\u001b[0m",
      "\u001b[1;31mValueError\u001b[0m                                Traceback (most recent call last)",
      "\u001b[1;32m<ipython-input-41-7634db255a5b>\u001b[0m in \u001b[0;36m<module>\u001b[1;34m()\u001b[0m\n\u001b[0;32m      1\u001b[0m \u001b[1;32mimport\u001b[0m \u001b[0mstatsmodels\u001b[0m\u001b[1;33m.\u001b[0m\u001b[0mapi\u001b[0m \u001b[1;32mas\u001b[0m \u001b[0mst\u001b[0m\u001b[1;33m\u001b[0m\u001b[0m\n\u001b[1;32m----> 2\u001b[1;33m \u001b[0mlogit_model\u001b[0m\u001b[1;33m=\u001b[0m\u001b[0mst\u001b[0m\u001b[1;33m.\u001b[0m\u001b[0mLogit\u001b[0m\u001b[1;33m(\u001b[0m\u001b[0msm_y\u001b[0m\u001b[1;33m-\u001b[0m\u001b[1;36m1\u001b[0m\u001b[1;33m,\u001b[0m\u001b[0msm_X\u001b[0m\u001b[1;33m,\u001b[0m \u001b[0mmissing\u001b[0m\u001b[1;33m=\u001b[0m\u001b[1;34m'drop'\u001b[0m\u001b[1;33m)\u001b[0m\u001b[1;33m\u001b[0m\u001b[0m\n\u001b[0m\u001b[0;32m      3\u001b[0m \u001b[0mresult\u001b[0m\u001b[1;33m=\u001b[0m\u001b[0mlogit_model\u001b[0m\u001b[1;33m.\u001b[0m\u001b[0mfit\u001b[0m\u001b[1;33m(\u001b[0m\u001b[1;33m)\u001b[0m\u001b[1;33m\u001b[0m\u001b[0m\n\u001b[0;32m      4\u001b[0m \u001b[0mprint\u001b[0m\u001b[1;33m(\u001b[0m\u001b[0mresult\u001b[0m\u001b[1;33m.\u001b[0m\u001b[0msummary2\u001b[0m\u001b[1;33m(\u001b[0m\u001b[1;33m)\u001b[0m\u001b[1;33m)\u001b[0m\u001b[1;33m\u001b[0m\u001b[0m\n",
      "\u001b[1;32m~\\Anaconda3\\lib\\site-packages\\statsmodels\\discrete\\discrete_model.py\u001b[0m in \u001b[0;36m__init__\u001b[1;34m(self, endog, exog, **kwargs)\u001b[0m\n\u001b[0;32m    403\u001b[0m         if (not issubclass(self.__class__, MultinomialModel) and\n\u001b[0;32m    404\u001b[0m                 not np.all((self.endog >= 0) & (self.endog <= 1))):\n\u001b[1;32m--> 405\u001b[1;33m             \u001b[1;32mraise\u001b[0m \u001b[0mValueError\u001b[0m\u001b[1;33m(\u001b[0m\u001b[1;34m\"endog must be in the unit interval.\"\u001b[0m\u001b[1;33m)\u001b[0m\u001b[1;33m\u001b[0m\u001b[0m\n\u001b[0m\u001b[0;32m    406\u001b[0m \u001b[1;33m\u001b[0m\u001b[0m\n\u001b[0;32m    407\u001b[0m \u001b[1;33m\u001b[0m\u001b[0m\n",
      "\u001b[1;31mValueError\u001b[0m: endog must be in the unit interval."
     ]
    }
   ],
   "source": [
    "import statsmodels.api as st\n",
    "logit_model=st.Logit(sm_y-1,sm_X, missing='drop')\n",
    "result=logit_model.fit()\n",
    "print(result.summary2())"
   ]
  },
  {
   "cell_type": "code",
   "execution_count": null,
   "metadata": {},
   "outputs": [],
   "source": []
  },
  {
   "cell_type": "code",
   "execution_count": null,
   "metadata": {},
   "outputs": [],
   "source": []
  }
 ],
 "metadata": {
  "kernelspec": {
   "display_name": "Python 3",
   "language": "python",
   "name": "python3"
  },
  "language_info": {
   "codemirror_mode": {
    "name": "ipython",
    "version": 3
   },
   "file_extension": ".py",
   "mimetype": "text/x-python",
   "name": "python",
   "nbconvert_exporter": "python",
   "pygments_lexer": "ipython3",
   "version": "3.6.4"
  }
 },
 "nbformat": 4,
 "nbformat_minor": 2
}
